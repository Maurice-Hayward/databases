{
 "cells": [
  {
   "cell_type": "code",
   "execution_count": 122,
   "metadata": {
    "collapsed": true
   },
   "outputs": [],
   "source": [
    "import json\n",
    "import glob\n",
    "import csv\n",
    "import string"
   ]
  },
  {
   "cell_type": "code",
   "execution_count": 123,
   "metadata": {
    "collapsed": true
   },
   "outputs": [],
   "source": [
    "filepath = 'comics2char.csv'"
   ]
  },
  {
   "cell_type": "code",
   "execution_count": 124,
   "metadata": {
    "collapsed": false
   },
   "outputs": [
    {
     "data": {
      "text/plain": [
       "18"
      ]
     },
     "execution_count": 124,
     "metadata": {},
     "output_type": "execute_result"
    }
   ],
   "source": [
    "out_put = open(filepath, \"w+\", newline='')\n",
    "datafile = csv.writer(out_put)      \n",
    "header = ['comic_id','char_id']\n",
    "datafile.writerow(header)"
   ]
  },
  {
   "cell_type": "code",
   "execution_count": 125,
   "metadata": {
    "collapsed": true
   },
   "outputs": [],
   "source": [
    "files =  glob.glob('./comic_json/*.json')"
   ]
  },
  {
   "cell_type": "code",
   "execution_count": 126,
   "metadata": {
    "collapsed": false
   },
   "outputs": [],
   "source": [
    "with open(files[0]) as data_file:\n",
    "    data = json.load(data_file)['data']['results']\n",
    "    "
   ]
  },
  {
   "cell_type": "code",
   "execution_count": 127,
   "metadata": {
    "collapsed": false
   },
   "outputs": [
    {
     "data": {
      "text/plain": [
       "False"
      ]
     },
     "execution_count": 127,
     "metadata": {},
     "output_type": "execute_result"
    }
   ],
   "source": [
    "data[0]['characters']['available'] > data[0]['characters']['returned'] "
   ]
  },
  {
   "cell_type": "code",
   "execution_count": 128,
   "metadata": {
    "collapsed": false
   },
   "outputs": [
    {
     "name": "stdout",
     "output_type": "stream",
     "text": [
      "1010370\n"
     ]
    }
   ],
   "source": [
    "for i in data[0]['characters']['items']:\n",
    "    print(i['resourceURI'].split('/')[-1])"
   ]
  },
  {
   "cell_type": "code",
   "execution_count": 129,
   "metadata": {
    "collapsed": false
   },
   "outputs": [],
   "source": [
    "i = 0\n",
    "api = []\n",
    "not_api = []\n",
    "for fn in files:\n",
    "    with open(fn) as data_file:\n",
    "        data = json.load(data_file)['data']['results']\n",
    "        for comic in data:\n",
    "            idd = comic['id']\n",
    "            avail = comic['characters']['available']\n",
    "            returned = data[0]['characters']['returned'] \n",
    "            if avail > 20:\n",
    "                api.append(idd)\n",
    "                continue\n",
    "            \n",
    "            not_api.append(idd)\n",
    "            if(len(comic['characters']['items']) == 0):\n",
    "                i = i + 1\n",
    "                \n",
    "            for char in comic['characters']['items']:\n",
    "                row = []\n",
    "                row.append(idd)\n",
    "                row.append(char['resourceURI'].split('/')[-1])\n",
    "                datafile.writerow(row)\n",
    "            \n",
    "                \n",
    "        \n",
    "        \n"
   ]
  },
  {
   "cell_type": "code",
   "execution_count": 130,
   "metadata": {
    "collapsed": false
   },
   "outputs": [
    {
     "data": {
      "text/plain": [
       "[8555,\n",
       " 13911,\n",
       " 14382,\n",
       " 1903,\n",
       " 23514,\n",
       " 10453,\n",
       " 18113,\n",
       " 13876,\n",
       " 14345,\n",
       " 21618,\n",
       " 14373,\n",
       " 16209,\n",
       " 16222,\n",
       " 14330,\n",
       " 2270,\n",
       " 10585,\n",
       " 10584,\n",
       " 10580,\n",
       " 23890,\n",
       " 1460,\n",
       " 1311,\n",
       " 3995,\n",
       " 13816,\n",
       " 13682,\n",
       " 10492,\n",
       " 1672,\n",
       " 13181,\n",
       " 14281,\n",
       " 14379,\n",
       " 23511,\n",
       " 12386,\n",
       " 13848,\n",
       " 19571,\n",
       " 10505,\n",
       " 12148,\n",
       " 17487,\n",
       " 17457,\n",
       " 5844,\n",
       " 10590,\n",
       " 10589,\n",
       " 10588,\n",
       " 10286,\n",
       " 13929,\n",
       " 5705,\n",
       " 22058,\n",
       " 21813,\n",
       " 6156,\n",
       " 17509,\n",
       " 13920,\n",
       " 8551,\n",
       " 8550,\n",
       " 13918,\n",
       " 10498,\n",
       " 17540,\n",
       " 18453,\n",
       " 8560,\n",
       " 17501,\n",
       " 17490,\n",
       " 23217,\n",
       " 17491,\n",
       " 35509,\n",
       " 15524,\n",
       " 4802,\n",
       " 8549,\n",
       " 8559,\n",
       " 1083,\n",
       " 1083,\n",
       " 19821,\n",
       " 5132,\n",
       " 5033,\n",
       " 21813,\n",
       " 21430,\n",
       " 21295,\n",
       " 4115,\n",
       " 1587,\n",
       " 12120,\n",
       " 6156,\n",
       " 2371,\n",
       " 35528,\n",
       " 13741,\n",
       " 23512,\n",
       " 1185,\n",
       " 10504,\n",
       " 1292,\n",
       " 17454,\n",
       " 5589,\n",
       " 5369,\n",
       " 5280,\n",
       " 10494,\n",
       " 12360,\n",
       " 20913,\n",
       " 4461,\n",
       " 4412,\n",
       " 4514,\n",
       " 4241,\n",
       " 13229,\n",
       " 18172,\n",
       " 42117,\n",
       " 40090,\n",
       " 14318,\n",
       " 1780,\n",
       " 1795,\n",
       " 17523,\n",
       " 17512,\n",
       " 30015,\n",
       " 20731,\n",
       " 12422,\n",
       " 15801,\n",
       " 15800,\n",
       " 15802,\n",
       " 17532,\n",
       " 17530,\n",
       " 14313,\n",
       " 14312,\n",
       " 13845,\n",
       " 10502,\n",
       " 1079,\n",
       " 1033,\n",
       " 4004,\n",
       " 12371,\n",
       " 12370,\n",
       " 13229,\n",
       " 10581,\n",
       " 4216,\n",
       " 4100,\n",
       " 4217,\n",
       " 21085,\n",
       " 1038,\n",
       " 13836,\n",
       " 14300,\n",
       " 15916,\n",
       " 1098,\n",
       " 21141,\n",
       " 14121,\n",
       " 10497,\n",
       " 17537,\n",
       " 10493,\n",
       " 24173,\n",
       " 15902,\n",
       " 13891,\n",
       " 13315,\n",
       " 5451,\n",
       " 8558,\n",
       " 8557,\n",
       " 8556,\n",
       " 21618,\n",
       " 23964,\n",
       " 2539,\n",
       " 23015,\n",
       " 1152,\n",
       " 10495]"
      ]
     },
     "execution_count": 130,
     "metadata": {},
     "output_type": "execute_result"
    }
   ],
   "source": [
    "api"
   ]
  },
  {
   "cell_type": "code",
   "execution_count": 131,
   "metadata": {
    "collapsed": false
   },
   "outputs": [
    {
     "data": {
      "text/plain": [
       "151"
      ]
     },
     "execution_count": 131,
     "metadata": {},
     "output_type": "execute_result"
    }
   ],
   "source": [
    "len(api)"
   ]
  },
  {
   "cell_type": "code",
   "execution_count": 132,
   "metadata": {
    "collapsed": false
   },
   "outputs": [
    {
     "data": {
      "text/plain": [
       "36608"
      ]
     },
     "execution_count": 132,
     "metadata": {},
     "output_type": "execute_result"
    }
   ],
   "source": [
    "len(not_api)"
   ]
  },
  {
   "cell_type": "code",
   "execution_count": 133,
   "metadata": {
    "collapsed": false
   },
   "outputs": [
    {
     "data": {
      "text/plain": [
       "18757"
      ]
     },
     "execution_count": 133,
     "metadata": {},
     "output_type": "execute_result"
    }
   ],
   "source": [
    "i"
   ]
  },
  {
   "cell_type": "code",
   "execution_count": 134,
   "metadata": {
    "collapsed": true
   },
   "outputs": [],
   "source": [
    "out_put.close()"
   ]
  },
  {
   "cell_type": "code",
   "execution_count": 135,
   "metadata": {
    "collapsed": true
   },
   "outputs": [],
   "source": [
    "import requests\n",
    "import hashlib\n",
    "import datetime\n",
    "import string\n",
    "import csv"
   ]
  },
  {
   "cell_type": "code",
   "execution_count": 136,
   "metadata": {
    "collapsed": true
   },
   "outputs": [],
   "source": [
    "public_key = \"2990a1aae96d40df9612767f23e2cf01\"\n",
    "private_key = \"3952fc6b62f02a30c86ee6ced917550f08f743ec\""
   ]
  },
  {
   "cell_type": "code",
   "execution_count": 137,
   "metadata": {
    "collapsed": true
   },
   "outputs": [],
   "source": [
    "def get_TS_HASH( pub_key, priv_key):\n",
    "    ts = str(datetime.datetime.now()).replace(\" \", \"\").replace(\".\", \"\").replace(\"-\", \"\").replace(\":\", \"\")\n",
    "    m = hashlib.md5()\n",
    "    h = ts + priv_key + pub_key\n",
    "    m.update( h.encode('utf-8'))\n",
    "    h = m.hexdigest()\n",
    "    return ts, h\n",
    "    "
   ]
  },
  {
   "cell_type": "code",
   "execution_count": 138,
   "metadata": {
    "collapsed": true
   },
   "outputs": [],
   "source": [
    "def make_url(base_url,limit,offset, pub_key, priv_key):\n",
    "    ts, h = get_TS_HASH( pub_key, priv_key)\n",
    "    get_url = base_url + '?ts=' + ts + '&limit=' + str(limit) + '&offset=' + str(offset) + \"&apikey=\" + pub_key + '&hash=' + h\n",
    "    return get_url"
   ]
  },
  {
   "cell_type": "code",
   "execution_count": 249,
   "metadata": {
    "collapsed": true
   },
   "outputs": [],
   "source": [
    "out_put = open(filepath, \"a\", newline='')\n",
    "datafile = csv.writer(out_put) "
   ]
  },
  {
   "cell_type": "code",
   "execution_count": 250,
   "metadata": {
    "collapsed": false
   },
   "outputs": [],
   "source": [
    "comic_id = api[:]"
   ]
  },
  {
   "cell_type": "code",
   "execution_count": 251,
   "metadata": {
    "collapsed": true
   },
   "outputs": [],
   "source": [
    "count = 0"
   ]
  },
  {
   "cell_type": "code",
   "execution_count": 252,
   "metadata": {
    "collapsed": true
   },
   "outputs": [],
   "source": [
    "comic_charID_url = 'http://gateway.marvel.com:80/v1/public/comics/%s/characters'"
   ]
  },
  {
   "cell_type": "code",
   "execution_count": 253,
   "metadata": {
    "collapsed": false
   },
   "outputs": [],
   "source": [
    "r = requests.get(make_url(comic_charID_url % str(comic_id[1]), 100, count, public_key, private_key))"
   ]
  },
  {
   "cell_type": "code",
   "execution_count": 254,
   "metadata": {
    "collapsed": false
   },
   "outputs": [],
   "source": [
    "data = r.json()['data']\n",
    "total = data['total']"
   ]
  },
  {
   "cell_type": "code",
   "execution_count": 255,
   "metadata": {
    "collapsed": false
   },
   "outputs": [],
   "source": [
    "idd = comic_id.index(5589)"
   ]
  },
  {
   "cell_type": "code",
   "execution_count": 256,
   "metadata": {
    "collapsed": false
   },
   "outputs": [],
   "source": [
    "idd = idd + 2"
   ]
  },
  {
   "cell_type": "code",
   "execution_count": 257,
   "metadata": {
    "collapsed": true
   },
   "outputs": [],
   "source": [
    "comic_id = comic_id[idd:len(comic_id)]"
   ]
  },
  {
   "cell_type": "code",
   "execution_count": 258,
   "metadata": {
    "collapsed": false
   },
   "outputs": [],
   "source": [
    "for i in range(len(comic_id)):\n",
    "    count = 0\n",
    "    url = (comic_charID_url % comic_id[i])\n",
    "    r = requests.get(make_url(url, 100, count, public_key, private_key))\n",
    "    if(r.status_code != 200):\n",
    "        print(\"something wrong!!! error code of %d\"% r.status_code)\n",
    "        break\n",
    "    data = r.json()['data']\n",
    "    total = data['total']\n",
    "    while(1):\n",
    "        count = count + data['count']\n",
    "        for char in data['results']:\n",
    "            row = []\n",
    "            row.append(comic_id[i])\n",
    "            row.append(char['id'])\n",
    "            datafile.writerow(row)\n",
    "        if(count > total):\n",
    "            break\n",
    "        if(r.status_code != 200):\n",
    "            print(\"something wrong!!! error code of %d\"% r.status_code)\n",
    "            break\n",
    "        data = r.json()['data']\n",
    "        \n",
    "        \n",
    "        \n",
    "        \n",
    "        \n",
    "    \n",
    "    \n",
    "    "
   ]
  },
  {
   "cell_type": "code",
   "execution_count": 259,
   "metadata": {
    "collapsed": false
   },
   "outputs": [],
   "source": [
    "out_put.close()"
   ]
  },
  {
   "cell_type": "code",
   "execution_count": null,
   "metadata": {
    "collapsed": true
   },
   "outputs": [],
   "source": []
  },
  {
   "cell_type": "code",
   "execution_count": null,
   "metadata": {
    "collapsed": true
   },
   "outputs": [],
   "source": []
  }
 ],
 "metadata": {
  "kernelspec": {
   "display_name": "Python 3",
   "language": "python",
   "name": "python3"
  },
  "language_info": {
   "codemirror_mode": {
    "name": "ipython",
    "version": 3
   },
   "file_extension": ".py",
   "mimetype": "text/x-python",
   "name": "python",
   "nbconvert_exporter": "python",
   "pygments_lexer": "ipython3",
   "version": "3.5.1"
  }
 },
 "nbformat": 4,
 "nbformat_minor": 0
}
