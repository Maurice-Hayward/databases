{
 "cells": [
  {
   "cell_type": "code",
   "execution_count": 745,
   "metadata": {
    "collapsed": true
   },
   "outputs": [],
   "source": [
    "import string\n",
    "import tkinter as tk\n",
    "from tkinter import filedialog\n",
    "from collections import defaultdict\n",
    "import random\n"
   ]
  },
  {
   "cell_type": "code",
   "execution_count": 746,
   "metadata": {
    "collapsed": false
   },
   "outputs": [],
   "source": [
    "#http://code.activestate.com/recipes/496761/\n",
    "\n",
    "\n",
    "class odict(dict):\n",
    "    \n",
    "    def __init__(self):\n",
    "        self._keys = []\n",
    "        self._data = {}\n",
    "        \n",
    "        \n",
    "    def __setitem__(self, key, value):\n",
    "        if key not in self._data:\n",
    "            self._keys.append(key)\n",
    "        self._data[key] = value\n",
    "        \n",
    "        \n",
    "    def __getitem__(self, key):\n",
    "        return self._data[key]\n",
    "    \n",
    "    \n",
    "    def __delitem__(self, key):\n",
    "        del self._data[key]\n",
    "        self._keys.remove(key)\n",
    "        \n",
    "        \n",
    "    def keys(self):\n",
    "        return list(self._keys)\n",
    "    \n",
    "    \n",
    "    def copy(self):\n",
    "        copyDict = odict()\n",
    "        copyDict._data = self._data.copy()\n",
    "        copyDict._keys = self._keys[:]\n",
    "        return copyDict"
   ]
  },
  {
   "cell_type": "markdown",
   "metadata": {},
   "source": [
    "## Read in Lines"
   ]
  },
  {
   "cell_type": "code",
   "execution_count": 747,
   "metadata": {
    "collapsed": false
   },
   "outputs": [],
   "source": [
    "#root = tk.Tk()\n",
    "#root.withdraw()\n",
    "#file_path = filedialog.askopenfilename()\n",
    "file_path = 'cl2_dash'"
   ]
  },
  {
   "cell_type": "code",
   "execution_count": 748,
   "metadata": {
    "collapsed": false
   },
   "outputs": [],
   "source": [
    "name_file = open(file_path, \"r\")"
   ]
  },
  {
   "cell_type": "code",
   "execution_count": 749,
   "metadata": {
    "collapsed": false
   },
   "outputs": [],
   "source": [
    "letters = list(string.ascii_lowercase)"
   ]
  },
  {
   "cell_type": "code",
   "execution_count": 750,
   "metadata": {
    "collapsed": false
   },
   "outputs": [],
   "source": [
    "letters.append(\" \")"
   ]
  },
  {
   "cell_type": "code",
   "execution_count": 751,
   "metadata": {
    "collapsed": false
   },
   "outputs": [
    {
     "data": {
      "text/plain": [
       "True"
      ]
     },
     "execution_count": 751,
     "metadata": {},
     "output_type": "execute_result"
    }
   ],
   "source": [
    "\" \" in letters"
   ]
  },
  {
   "cell_type": "code",
   "execution_count": 752,
   "metadata": {
    "collapsed": false
   },
   "outputs": [],
   "source": [
    "last_char_read =  \" \""
   ]
  },
  {
   "cell_type": "code",
   "execution_count": 753,
   "metadata": {
    "collapsed": false
   },
   "outputs": [],
   "source": [
    "frequencies = defaultdict(lambda: 0)"
   ]
  },
  {
   "cell_type": "code",
   "execution_count": 754,
   "metadata": {
    "collapsed": false
   },
   "outputs": [],
   "source": [
    "for line in name_file:\n",
    "    for ch in line:\n",
    "        if(ch.lower() in  list(string.ascii_lowercase)):\n",
    "            if(last_char_read.lower() in letters):\n",
    "                pair = last_char_read.lower() + ch.lower()\n",
    "                frequencies[pair] =  frequencies[pair] + 1\n",
    "        last_char_read = ch\n",
    "    "
   ]
  },
  {
   "cell_type": "code",
   "execution_count": 755,
   "metadata": {
    "collapsed": true
   },
   "outputs": [],
   "source": [
    "name_file.close()"
   ]
  },
  {
   "cell_type": "code",
   "execution_count": 756,
   "metadata": {
    "collapsed": false
   },
   "outputs": [],
   "source": [
    "letter_total =  defaultdict(lambda: 0)"
   ]
  },
  {
   "cell_type": "code",
   "execution_count": 757,
   "metadata": {
    "collapsed": false
   },
   "outputs": [],
   "source": [
    "for k , v in frequencies.items():\n",
    "    letter_total[k[0]] += v\n",
    "   "
   ]
  },
  {
   "cell_type": "code",
   "execution_count": 758,
   "metadata": {
    "collapsed": false
   },
   "outputs": [],
   "source": [
    "final =  defaultdict(lambda: 0)"
   ]
  },
  {
   "cell_type": "code",
   "execution_count": 759,
   "metadata": {
    "collapsed": false
   },
   "outputs": [],
   "source": [
    "for k, v in sorted(frequencies.items()):\n",
    "    final[k] = float(v) / float(letter_total[k[0]])\n",
    "    \n",
    "    "
   ]
  },
  {
   "cell_type": "code",
   "execution_count": 760,
   "metadata": {
    "collapsed": false
   },
   "outputs": [],
   "source": [
    "for first_letter in letters:\n",
    "    total = 0.0\n",
    "    for second_letter in list(string.ascii_lowercase):\n",
    "        pair = first_letter + second_letter\n",
    "        if( pair in final.keys()):\n",
    "            value = final[pair]\n",
    "            final[pair] += total\n",
    "            total = total + value\n",
    "            \n",
    "        \n"
   ]
  },
  {
   "cell_type": "code",
   "execution_count": 789,
   "metadata": {
    "collapsed": false
   },
   "outputs": [],
   "source": [
    "def get_next_letter( letter, tables):\n",
    "    rand = random.random()\n",
    " \n",
    "    if rand > .98:\n",
    "        rand = 1\n",
    "    result = []\n",
    "    for k , v in sorted(tables.items()):\n",
    "        if( (k[0] == letter)  and (k[1] != ' ') and (v >= rand)):\n",
    "               result.append(k)\n",
    "    \n",
    "    result = sorted(result)\n",
    "    \n",
    "    return result[0][1]\n",
    "        \n",
    "        \n",
    "    "
   ]
  },
  {
   "cell_type": "code",
   "execution_count": 790,
   "metadata": {
    "collapsed": true
   },
   "outputs": [],
   "source": [
    "def generate_name():\n",
    "    name = get_next_letter(' ', final)\n",
    "    for i in range(int(random.uniform(4, 11))):\n",
    "        next_letter = get_next_letter(name[-1], final)\n",
    "        name = name + next_letter\n",
    "    return name\n",
    "        "
   ]
  }
 ],
 "metadata": {
  "kernelspec": {
   "display_name": "Python 3",
   "language": "python",
   "name": "python3"
  },
  "language_info": {
   "codemirror_mode": {
    "name": "ipython",
    "version": 3
   },
   "file_extension": ".py",
   "mimetype": "text/x-python",
   "name": "python",
   "nbconvert_exporter": "python",
   "pygments_lexer": "ipython3",
   "version": "3.5.1"
  }
 },
 "nbformat": 4,
 "nbformat_minor": 0
}
