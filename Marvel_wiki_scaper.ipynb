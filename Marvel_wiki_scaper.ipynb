{
 "cells": [
  {
   "cell_type": "code",
   "execution_count": 1,
   "metadata": {
    "collapsed": false
   },
   "outputs": [],
   "source": [
    "import wikia\n",
    "import requests\n",
    "import json\n",
    "import string\n",
    "import csv\n",
    "from bs4 import BeautifulSoup"
   ]
  },
  {
   "cell_type": "code",
   "execution_count": 2,
   "metadata": {
    "collapsed": false
   },
   "outputs": [
    {
     "data": {
      "text/plain": [
       "24"
      ]
     },
     "execution_count": 2,
     "metadata": {},
     "output_type": "execute_result"
    }
   ],
   "source": [
    "filepath = 'powers.csv'\n",
    "out_put = open(filepath, \"w+\", newline='')\n",
    "datafile = csv.writer(out_put)  \n",
    "\n",
    "datafile.writerow(['character', 'ability_type'])"
   ]
  },
  {
   "cell_type": "code",
   "execution_count": 3,
   "metadata": {
    "collapsed": false
   },
   "outputs": [],
   "source": [
    "p = wikia.page(\"marvel\", \"Category:Powers\")"
   ]
  },
  {
   "cell_type": "code",
   "execution_count": 4,
   "metadata": {
    "collapsed": false
   },
   "outputs": [],
   "source": [
    "r = requests.get('http://marvel.wikia.com/wiki/Category:Characters_by_Power?display=page&sort=mostvisited')"
   ]
  },
  {
   "cell_type": "code",
   "execution_count": 5,
   "metadata": {
    "collapsed": false,
    "scrolled": true
   },
   "outputs": [
    {
     "name": "stderr",
     "output_type": "stream",
     "text": [
      "/home/maurice/anaconda3/lib/python3.5/site-packages/bs4/__init__.py:166: UserWarning: No parser was explicitly specified, so I'm using the best available HTML parser for this system (\"lxml\"). This usually isn't a problem, but if you run this code on another system, or in a different virtual environment, it may use a different parser and behave differently.\n",
      "\n",
      "To get rid of this warning, change this:\n",
      "\n",
      " BeautifulSoup([your markup])\n",
      "\n",
      "to this:\n",
      "\n",
      " BeautifulSoup([your markup], \"lxml\")\n",
      "\n",
      "  markup_type=markup_type))\n"
     ]
    }
   ],
   "source": [
    "soup = BeautifulSoup(r.content)"
   ]
  },
  {
   "cell_type": "code",
   "execution_count": 6,
   "metadata": {
    "collapsed": false
   },
   "outputs": [],
   "source": [
    "powers = []\n",
    "i = 19\n",
    "while(True):\n",
    "    try:\n",
    "        p = soup.findAll('ul')[i].findAll('a')\n",
    "    except:\n",
    "        break\n",
    "    i = i + 1 \n",
    "    for j in range(len(p)):\n",
    "        try:\n",
    "            tag = p[j].contents.pop(0)\n",
    "        except:\n",
    "            continue\n",
    "        \n",
    "        powers.append(tag)\n",
    "       \n",
    "    "
   ]
  },
  {
   "cell_type": "code",
   "execution_count": 7,
   "metadata": {
    "collapsed": false
   },
   "outputs": [
    {
     "data": {
      "text/plain": [
       "['Acid Generation',\n",
       " 'Acoustikinesis',\n",
       " 'Adaptation',\n",
       " 'Adhesive',\n",
       " 'Advanced Longevity',\n",
       " 'Aerokinesis',\n",
       " 'Animal Form',\n",
       " 'Armor Users',\n",
       " 'Astral Projection',\n",
       " 'Atmokinesis',\n",
       " 'Believed Precognitive Immunity',\n",
       " 'Biological Manipulation',\n",
       " 'Blood Burners',\n",
       " 'Botanopathy',\n",
       " 'Camouflage',\n",
       " 'Captain Universe',\n",
       " 'Chi Manipulation',\n",
       " 'Chronokinesis',\n",
       " 'Claws',\n",
       " 'Collaboration',\n",
       " 'Concussive Blasts',\n",
       " 'Cosmic Awareness',\n",
       " 'Cryokinesis',\n",
       " 'Darkforce',\n",
       " 'Death Touch',\n",
       " 'Density Manipulation',\n",
       " 'Disintegration',\n",
       " 'Disruption',\n",
       " 'Duplication',\n",
       " 'Ebony Blade User',\n",
       " 'Electrokinesis',\n",
       " 'Empaths',\n",
       " 'Energy Absorption',\n",
       " 'Energy Form',\n",
       " 'Energy Manipulation',\n",
       " 'Energy Senses',\n",
       " 'Extra-Sensory Perception',\n",
       " 'Fire Breath',\n",
       " 'Flaming Body',\n",
       " 'Flat Body',\n",
       " 'Flight',\n",
       " 'Force Field',\n",
       " 'Gaseous Form',\n",
       " 'Gel Manifestation',\n",
       " 'Geniuses',\n",
       " 'Geo-Thermokinesis',\n",
       " 'Geokinesis',\n",
       " 'Gestalt Characters',\n",
       " 'Goo Body',\n",
       " 'Gravitikinesis',\n",
       " 'Healers',\n",
       " 'Hydrokinesis',\n",
       " 'Hypercognitive',\n",
       " 'Hyperosmia',\n",
       " 'Hypnosis',\n",
       " 'Illusionists',\n",
       " 'Immortals',\n",
       " 'Imperceptibility',\n",
       " 'Infinity Formula',\n",
       " 'Intangibility',\n",
       " 'Interdimensional Travelers',\n",
       " 'Intuitives',\n",
       " 'Invisibility',\n",
       " 'Leaping',\n",
       " 'Liquid Form',\n",
       " 'Magicians',\n",
       " 'Magnetokinesis',\n",
       " 'Matter Absorption',\n",
       " 'Matter Manipulation',\n",
       " 'Metal Body',\n",
       " 'Mind Control',\n",
       " 'Necromancy',\n",
       " 'Neuralkinesis',\n",
       " 'Night Vision',\n",
       " 'Object-Based Powers',\n",
       " 'Old Power',\n",
       " 'Omnilingual',\n",
       " 'Optic Blasts',\n",
       " 'Organic Webbing',\n",
       " 'Osteokinesis',\n",
       " 'Pain Suppression',\n",
       " 'Paralysis',\n",
       " 'Pheromones',\n",
       " 'Phoenix Force',\n",
       " 'Photokinesis',\n",
       " 'Pigment Control',\n",
       " 'Plasma Generation',\n",
       " 'Possession',\n",
       " 'Power Amplification',\n",
       " 'Power Bestowal',\n",
       " 'Power Classifications',\n",
       " 'Power Cosmic',\n",
       " 'Power Mimicry',\n",
       " 'Power Negation',\n",
       " 'Power Sensing',\n",
       " 'Probability Manipulation',\n",
       " 'Psionic Entities',\n",
       " 'Psychic Vampires',\n",
       " 'Psychic Weapon',\n",
       " 'Pyrokinesis',\n",
       " 'Reality Warpers',\n",
       " 'Regeneration',\n",
       " 'Reincarnation',\n",
       " 'Rock Body',\n",
       " 'Self Detonation',\n",
       " 'Self Sustenance',\n",
       " 'Shapeshifters',\n",
       " 'Shared body characters',\n",
       " 'Size Alteration',\n",
       " 'Spinning',\n",
       " 'Stasis',\n",
       " 'Stretching',\n",
       " 'Summoning',\n",
       " 'Superhuman Agility',\n",
       " 'Superhuman Durability',\n",
       " 'Superhuman Reflexes',\n",
       " 'Superhuman Senses',\n",
       " 'Superhuman Speed',\n",
       " 'Superhuman Stamina',\n",
       " 'Superhuman Strength',\n",
       " 'Techno-Organic Virus',\n",
       " 'Technopaths',\n",
       " 'Telekinesis',\n",
       " 'Telepaths',\n",
       " 'Teleporters',\n",
       " 'Tentacles',\n",
       " 'Thermokinesis',\n",
       " 'Time Travelers',\n",
       " 'Toxic',\n",
       " 'Transmutation',\n",
       " 'Trichokinesis',\n",
       " 'Underwater Breathing',\n",
       " 'Virtual Reality User',\n",
       " 'Voodoo',\n",
       " 'Wallcrawling',\n",
       " 'Web-Slinging',\n",
       " 'Wind Breath',\n",
       " 'X-Ray Vision',\n",
       " 'Zoopathy']"
      ]
     },
     "execution_count": 7,
     "metadata": {},
     "output_type": "execute_result"
    }
   ],
   "source": [
    "powers = powers[0:len(powers) -14]\n",
    "powers"
   ]
  },
  {
   "cell_type": "code",
   "execution_count": 8,
   "metadata": {
    "collapsed": true
   },
   "outputs": [],
   "source": [
    "for i in range(len(powers)):\n",
    "    powers[i] = powers[i].replace(' ', '_')"
   ]
  },
  {
   "cell_type": "code",
   "execution_count": 9,
   "metadata": {
    "collapsed": false
   },
   "outputs": [
    {
     "data": {
      "text/plain": [
       "['Acid_Generation',\n",
       " 'Acoustikinesis',\n",
       " 'Adaptation',\n",
       " 'Adhesive',\n",
       " 'Advanced_Longevity',\n",
       " 'Aerokinesis',\n",
       " 'Animal_Form',\n",
       " 'Armor_Users',\n",
       " 'Astral_Projection',\n",
       " 'Atmokinesis',\n",
       " 'Believed_Precognitive_Immunity',\n",
       " 'Biological_Manipulation',\n",
       " 'Blood_Burners',\n",
       " 'Botanopathy',\n",
       " 'Camouflage',\n",
       " 'Captain_Universe',\n",
       " 'Chi_Manipulation',\n",
       " 'Chronokinesis',\n",
       " 'Claws',\n",
       " 'Collaboration',\n",
       " 'Concussive_Blasts',\n",
       " 'Cosmic_Awareness',\n",
       " 'Cryokinesis',\n",
       " 'Darkforce',\n",
       " 'Death_Touch',\n",
       " 'Density_Manipulation',\n",
       " 'Disintegration',\n",
       " 'Disruption',\n",
       " 'Duplication',\n",
       " 'Ebony_Blade_User',\n",
       " 'Electrokinesis',\n",
       " 'Empaths',\n",
       " 'Energy_Absorption',\n",
       " 'Energy_Form',\n",
       " 'Energy_Manipulation',\n",
       " 'Energy_Senses',\n",
       " 'Extra-Sensory_Perception',\n",
       " 'Fire_Breath',\n",
       " 'Flaming_Body',\n",
       " 'Flat_Body',\n",
       " 'Flight',\n",
       " 'Force_Field',\n",
       " 'Gaseous_Form',\n",
       " 'Gel_Manifestation',\n",
       " 'Geniuses',\n",
       " 'Geo-Thermokinesis',\n",
       " 'Geokinesis',\n",
       " 'Gestalt_Characters',\n",
       " 'Goo_Body',\n",
       " 'Gravitikinesis',\n",
       " 'Healers',\n",
       " 'Hydrokinesis',\n",
       " 'Hypercognitive',\n",
       " 'Hyperosmia',\n",
       " 'Hypnosis',\n",
       " 'Illusionists',\n",
       " 'Immortals',\n",
       " 'Imperceptibility',\n",
       " 'Infinity_Formula',\n",
       " 'Intangibility',\n",
       " 'Interdimensional_Travelers',\n",
       " 'Intuitives',\n",
       " 'Invisibility',\n",
       " 'Leaping',\n",
       " 'Liquid_Form',\n",
       " 'Magicians',\n",
       " 'Magnetokinesis',\n",
       " 'Matter_Absorption',\n",
       " 'Matter_Manipulation',\n",
       " 'Metal_Body',\n",
       " 'Mind_Control',\n",
       " 'Necromancy',\n",
       " 'Neuralkinesis',\n",
       " 'Night_Vision',\n",
       " 'Object-Based_Powers',\n",
       " 'Old_Power',\n",
       " 'Omnilingual',\n",
       " 'Optic_Blasts',\n",
       " 'Organic_Webbing',\n",
       " 'Osteokinesis',\n",
       " 'Pain_Suppression',\n",
       " 'Paralysis',\n",
       " 'Pheromones',\n",
       " 'Phoenix_Force',\n",
       " 'Photokinesis',\n",
       " 'Pigment_Control',\n",
       " 'Plasma_Generation',\n",
       " 'Possession',\n",
       " 'Power_Amplification',\n",
       " 'Power_Bestowal',\n",
       " 'Power_Classifications',\n",
       " 'Power_Cosmic',\n",
       " 'Power_Mimicry',\n",
       " 'Power_Negation',\n",
       " 'Power_Sensing',\n",
       " 'Probability_Manipulation',\n",
       " 'Psionic_Entities',\n",
       " 'Psychic_Vampires',\n",
       " 'Psychic_Weapon',\n",
       " 'Pyrokinesis',\n",
       " 'Reality_Warpers',\n",
       " 'Regeneration',\n",
       " 'Reincarnation',\n",
       " 'Rock_Body',\n",
       " 'Self_Detonation',\n",
       " 'Self_Sustenance',\n",
       " 'Shapeshifters',\n",
       " 'Shared_body_characters',\n",
       " 'Size_Alteration',\n",
       " 'Spinning',\n",
       " 'Stasis',\n",
       " 'Stretching',\n",
       " 'Summoning',\n",
       " 'Superhuman_Agility',\n",
       " 'Superhuman_Durability',\n",
       " 'Superhuman_Reflexes',\n",
       " 'Superhuman_Senses',\n",
       " 'Superhuman_Speed',\n",
       " 'Superhuman_Stamina',\n",
       " 'Superhuman_Strength',\n",
       " 'Techno-Organic_Virus',\n",
       " 'Technopaths',\n",
       " 'Telekinesis',\n",
       " 'Telepaths',\n",
       " 'Teleporters',\n",
       " 'Tentacles',\n",
       " 'Thermokinesis',\n",
       " 'Time_Travelers',\n",
       " 'Toxic',\n",
       " 'Transmutation',\n",
       " 'Trichokinesis',\n",
       " 'Underwater_Breathing',\n",
       " 'Virtual_Reality_User',\n",
       " 'Voodoo',\n",
       " 'Wallcrawling',\n",
       " 'Web-Slinging',\n",
       " 'Wind_Breath',\n",
       " 'X-Ray_Vision',\n",
       " 'Zoopathy']"
      ]
     },
     "execution_count": 9,
     "metadata": {},
     "output_type": "execute_result"
    }
   ],
   "source": [
    "powers"
   ]
  },
  {
   "cell_type": "code",
   "execution_count": 10,
   "metadata": {
    "collapsed": true
   },
   "outputs": [],
   "source": [
    "power_site = \"http://marvel.wikia.com/wiki/Category:%s?display=page&sort=mostvisited\""
   ]
  },
  {
   "cell_type": "code",
   "execution_count": 11,
   "metadata": {
    "collapsed": true
   },
   "outputs": [],
   "source": [
    "r = requests.get(power_site % powers[3])"
   ]
  },
  {
   "cell_type": "code",
   "execution_count": 12,
   "metadata": {
    "collapsed": false
   },
   "outputs": [
    {
     "name": "stderr",
     "output_type": "stream",
     "text": [
      "/home/maurice/anaconda3/lib/python3.5/site-packages/bs4/__init__.py:166: UserWarning: No parser was explicitly specified, so I'm using the best available HTML parser for this system (\"lxml\"). This usually isn't a problem, but if you run this code on another system, or in a different virtual environment, it may use a different parser and behave differently.\n",
      "\n",
      "To get rid of this warning, change this:\n",
      "\n",
      " BeautifulSoup([your markup])\n",
      "\n",
      "to this:\n",
      "\n",
      " BeautifulSoup([your markup], \"lxml\")\n",
      "\n",
      "  markup_type=markup_type))\n"
     ]
    }
   ],
   "source": [
    "soup = BeautifulSoup(r.content)"
   ]
  },
  {
   "cell_type": "code",
   "execution_count": 13,
   "metadata": {
    "collapsed": false
   },
   "outputs": [
    {
     "name": "stderr",
     "output_type": "stream",
     "text": [
      "/home/maurice/anaconda3/lib/python3.5/site-packages/bs4/__init__.py:166: UserWarning: No parser was explicitly specified, so I'm using the best available HTML parser for this system (\"lxml\"). This usually isn't a problem, but if you run this code on another system, or in a different virtual environment, it may use a different parser and behave differently.\n",
      "\n",
      "To get rid of this warning, change this:\n",
      "\n",
      " BeautifulSoup([your markup])\n",
      "\n",
      "to this:\n",
      "\n",
      " BeautifulSoup([your markup], \"lxml\")\n",
      "\n",
      "  markup_type=markup_type))\n"
     ]
    }
   ],
   "source": [
    "master = []\n",
    "for j in range(len(powers)):\n",
    "    r = requests.get(power_site % powers[j])\n",
    "    soup = BeautifulSoup(r.content)\n",
    "    heros = []\n",
    "    i = 18\n",
    "    while(True):\n",
    "        try:\n",
    "            p = soup.findAll('ul')[i].findAll('a')\n",
    "        except:\n",
    "            break\n",
    "        i = i + 1 \n",
    "        for j in range(len(p)):\n",
    "            try:\n",
    "                tag = p[j].contents.pop(0)\n",
    "            except:\n",
    "                continue\n",
    "        \n",
    "            heros.append(tag)\n",
    "    master.append(heros[0:len(heros) - 13])\n",
    "       \n"
   ]
  },
  {
   "cell_type": "code",
   "execution_count": 19,
   "metadata": {
    "collapsed": false
   },
   "outputs": [
    {
     "name": "stdout",
     "output_type": "stream",
     "text": [
      "48\n",
      "128\n",
      "29\n",
      "14\n",
      "201\n",
      "138\n",
      "54\n",
      "210\n",
      "126\n",
      "149\n",
      "4\n",
      "73\n",
      "6\n",
      "58\n",
      "87\n",
      "38\n",
      "114\n",
      "74\n",
      "201\n",
      "20\n",
      "200\n",
      "52\n",
      "175\n",
      "59\n",
      "30\n",
      "33\n",
      "25\n",
      "53\n",
      "58\n",
      "21\n",
      "201\n",
      "126\n",
      "202\n",
      "85\n",
      "204\n",
      "83\n",
      "7\n",
      "48\n",
      "62\n",
      "12\n",
      "201\n",
      "201\n",
      "41\n",
      "10\n",
      "205\n",
      "15\n",
      "114\n",
      "205\n",
      "22\n",
      "60\n",
      "88\n",
      "105\n",
      "29\n",
      "109\n",
      "94\n",
      "200\n",
      "207\n",
      "5\n",
      "20\n",
      "199\n",
      "201\n",
      "21\n",
      "189\n",
      "200\n",
      "45\n",
      "207\n",
      "142\n",
      "46\n",
      "163\n",
      "203\n",
      "151\n",
      "29\n",
      "8\n",
      "173\n",
      "122\n",
      "10\n",
      "23\n",
      "201\n",
      "89\n",
      "30\n",
      "27\n",
      "39\n",
      "88\n",
      "96\n",
      "152\n",
      "9\n",
      "169\n",
      "136\n",
      "73\n",
      "216\n",
      "11\n",
      "126\n",
      "100\n",
      "84\n",
      "51\n",
      "58\n",
      "64\n",
      "76\n",
      "28\n",
      "204\n",
      "116\n",
      "203\n",
      "16\n",
      "204\n",
      "18\n",
      "74\n",
      "214\n",
      "28\n",
      "202\n",
      "14\n",
      "9\n",
      "181\n",
      "53\n",
      "201\n",
      "208\n",
      "200\n",
      "210\n",
      "203\n",
      "200\n",
      "222\n",
      "140\n",
      "200\n",
      "202\n",
      "210\n",
      "200\n",
      "201\n",
      "108\n",
      "206\n",
      "30\n",
      "99\n",
      "43\n",
      "182\n",
      "7\n",
      "35\n",
      "200\n",
      "202\n",
      "7\n",
      "13\n",
      "133\n"
     ]
    }
   ],
   "source": [
    "for i in range(len(master)):\n",
    "    print(len(master[i]))"
   ]
  },
  {
   "cell_type": "code",
   "execution_count": null,
   "metadata": {
    "collapsed": true
   },
   "outputs": [],
   "source": [
    "xxxxxxxxxxxxxxxxx"
   ]
  }
 ],
 "metadata": {
  "kernelspec": {
   "display_name": "Python 3",
   "language": "python",
   "name": "python3"
  },
  "language_info": {
   "codemirror_mode": {
    "name": "ipython",
    "version": 3
   },
   "file_extension": ".py",
   "mimetype": "text/x-python",
   "name": "python",
   "nbconvert_exporter": "python",
   "pygments_lexer": "ipython3",
   "version": "3.5.1"
  }
 },
 "nbformat": 4,
 "nbformat_minor": 0
}
