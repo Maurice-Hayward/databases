{
 "cells": [
  {
   "cell_type": "code",
   "execution_count": 1,
   "metadata": {
    "collapsed": false
   },
   "outputs": [],
   "source": [
    "import wikia\n",
    "import requests\n",
    "import json\n",
    "import string\n",
    "import csv\n",
    "from bs4 import BeautifulSoup"
   ]
  },
  {
   "cell_type": "code",
   "execution_count": 2,
   "metadata": {
    "collapsed": false
   },
   "outputs": [
    {
     "data": {
      "text/plain": [
       "24"
      ]
     },
     "execution_count": 2,
     "metadata": {},
     "output_type": "execute_result"
    }
   ],
   "source": [
    "filepath = 'powers.csv'\n",
    "out_put = open(filepath, \"w+\", newline='')\n",
    "datafile = csv.writer(out_put)  \n",
    "\n",
    "datafile.writerow(['character', 'ability_type'])"
   ]
  },
  {
   "cell_type": "code",
   "execution_count": 3,
   "metadata": {
    "collapsed": false
   },
   "outputs": [],
   "source": [
    "p = wikia.page(\"marvel\", \"Captain America\")"
   ]
  },
  {
   "cell_type": "code",
   "execution_count": 4,
   "metadata": {
    "collapsed": false
   },
   "outputs": [
    {
     "data": {
      "text/plain": [
       "'http://marvel.wikia.com/wiki/Captain America'"
      ]
     },
     "execution_count": 4,
     "metadata": {},
     "output_type": "execute_result"
    }
   ],
   "source": [
    "p.url"
   ]
  },
  {
   "cell_type": "code",
   "execution_count": 5,
   "metadata": {
    "collapsed": false
   },
   "outputs": [],
   "source": [
    "r = requests.get('http://marvel.wikia.com/wiki/Category:Characters_by_Power?display=page&sort=mostvisited')"
   ]
  },
  {
   "cell_type": "code",
   "execution_count": 1,
   "metadata": {
    "collapsed": false,
    "scrolled": true
   },
   "outputs": [
    {
     "ename": "NameError",
     "evalue": "name 'BeautifulSoup' is not defined",
     "output_type": "error",
     "traceback": [
      "\u001b[1;31m---------------------------------------------------------------------------\u001b[0m",
      "\u001b[1;31mNameError\u001b[0m                                 Traceback (most recent call last)",
      "\u001b[1;32m<ipython-input-1-4826b1f09aff>\u001b[0m in \u001b[0;36m<module>\u001b[1;34m()\u001b[0m\n\u001b[1;32m----> 1\u001b[1;33m \u001b[0msoup\u001b[0m \u001b[1;33m=\u001b[0m \u001b[0mBeautifulSoup\u001b[0m\u001b[1;33m(\u001b[0m\u001b[0mr\u001b[0m\u001b[1;33m.\u001b[0m\u001b[0mcontent\u001b[0m\u001b[1;33m)\u001b[0m\u001b[1;33m\u001b[0m\u001b[0m\n\u001b[0m",
      "\u001b[1;31mNameError\u001b[0m: name 'BeautifulSoup' is not defined"
     ]
    }
   ],
   "source": [
    "soup = BeautifulSoup(r.content)"
   ]
  },
  {
   "cell_type": "code",
   "execution_count": 7,
   "metadata": {
    "collapsed": false
   },
   "outputs": [],
   "source": [
    "powers = []\n",
    "i = 19\n",
    "while(True):\n",
    "    try:\n",
    "        p = soup.findAll('ul')[i].findAll('a')\n",
    "    except:\n",
    "        break\n",
    "    i = i + 1 \n",
    "    for j in range(len(p)):\n",
    "        try:\n",
    "            tag = p[j].contents.pop(0)\n",
    "        except:\n",
    "            continue\n",
    "        \n",
    "        powers.append(tag)\n",
    "       \n",
    "    "
   ]
  },
  {
   "cell_type": "code",
   "execution_count": 8,
   "metadata": {
    "collapsed": false
   },
   "outputs": [],
   "source": [
    "powers = powers[0:len(powers) -14]"
   ]
  },
  {
   "cell_type": "code",
   "execution_count": 9,
   "metadata": {
    "collapsed": true
   },
   "outputs": [],
   "source": [
    "for i in range(len(powers)):\n",
    "    powers[i] = powers[i].replace(' ', '_')"
   ]
  },
  {
   "cell_type": "code",
   "execution_count": 10,
   "metadata": {
    "collapsed": false
   },
   "outputs": [
    {
     "data": {
      "text/plain": [
       "['Acid_Generation',\n",
       " 'Acoustikinesis',\n",
       " 'Adaptation',\n",
       " 'Adhesive',\n",
       " 'Advanced_Longevity',\n",
       " 'Aerokinesis',\n",
       " 'Animal_Form',\n",
       " 'Armor_Users',\n",
       " 'Astral_Projection',\n",
       " 'Atmokinesis',\n",
       " 'Believed_Precognitive_Immunity',\n",
       " 'Biological_Manipulation',\n",
       " 'Blood_Burners',\n",
       " 'Botanopathy',\n",
       " 'Camouflage',\n",
       " 'Captain_Universe',\n",
       " 'Chi_Manipulation',\n",
       " 'Chronokinesis',\n",
       " 'Claws',\n",
       " 'Collaboration',\n",
       " 'Concussive_Blasts',\n",
       " 'Cosmic_Awareness',\n",
       " 'Cryokinesis',\n",
       " 'Darkforce',\n",
       " 'Death_Touch',\n",
       " 'Density_Manipulation',\n",
       " 'Disintegration',\n",
       " 'Disruption',\n",
       " 'Duplication',\n",
       " 'Ebony_Blade_User',\n",
       " 'Electrokinesis',\n",
       " 'Empaths',\n",
       " 'Energy_Absorption',\n",
       " 'Energy_Form',\n",
       " 'Energy_Manipulation',\n",
       " 'Energy_Senses',\n",
       " 'Extra-Sensory_Perception',\n",
       " 'Fire_Breath',\n",
       " 'Flaming_Body',\n",
       " 'Flat_Body',\n",
       " 'Flight',\n",
       " 'Force_Field',\n",
       " 'Gaseous_Form',\n",
       " 'Gel_Manifestation',\n",
       " 'Geniuses',\n",
       " 'Geo-Thermokinesis',\n",
       " 'Geokinesis',\n",
       " 'Gestalt_Characters',\n",
       " 'Goo_Body',\n",
       " 'Gravitikinesis',\n",
       " 'Healers',\n",
       " 'Hydrokinesis',\n",
       " 'Hypercognitive',\n",
       " 'Hyperosmia',\n",
       " 'Hypnosis',\n",
       " 'Illusionists',\n",
       " 'Immortals',\n",
       " 'Imperceptibility',\n",
       " 'Infinity_Formula',\n",
       " 'Intangibility',\n",
       " 'Interdimensional_Travelers',\n",
       " 'Intuitives',\n",
       " 'Invisibility',\n",
       " 'Leaping',\n",
       " 'Liquid_Form',\n",
       " 'Magicians',\n",
       " 'Magnetokinesis',\n",
       " 'Matter_Absorption',\n",
       " 'Matter_Manipulation',\n",
       " 'Metal_Body',\n",
       " 'Mind_Control',\n",
       " 'Necromancy',\n",
       " 'Neuralkinesis',\n",
       " 'Night_Vision',\n",
       " 'Object-Based_Powers',\n",
       " 'Old_Power',\n",
       " 'Omnilingual',\n",
       " 'Optic_Blasts',\n",
       " 'Organic_Webbing',\n",
       " 'Osteokinesis',\n",
       " 'Pain_Suppression',\n",
       " 'Paralysis',\n",
       " 'Pheromones',\n",
       " 'Phoenix_Force',\n",
       " 'Photokinesis',\n",
       " 'Pigment_Control',\n",
       " 'Plasma_Generation',\n",
       " 'Possession',\n",
       " 'Power_Amplification',\n",
       " 'Power_Bestowal',\n",
       " 'Power_Classifications',\n",
       " 'Power_Cosmic',\n",
       " 'Power_Mimicry',\n",
       " 'Power_Negation',\n",
       " 'Power_Sensing',\n",
       " 'Probability_Manipulation',\n",
       " 'Psionic_Entities',\n",
       " 'Psychic_Vampires',\n",
       " 'Psychic_Weapon',\n",
       " 'Pyrokinesis',\n",
       " 'Reality_Warpers',\n",
       " 'Regeneration',\n",
       " 'Reincarnation',\n",
       " 'Rock_Body',\n",
       " 'Self_Detonation',\n",
       " 'Self_Sustenance',\n",
       " 'Shapeshifters',\n",
       " 'Shared_body_characters',\n",
       " 'Size_Alteration',\n",
       " 'Spinning',\n",
       " 'Stasis',\n",
       " 'Stretching',\n",
       " 'Summoning',\n",
       " 'Superhuman_Agility',\n",
       " 'Superhuman_Durability',\n",
       " 'Superhuman_Reflexes',\n",
       " 'Superhuman_Senses',\n",
       " 'Superhuman_Speed',\n",
       " 'Superhuman_Stamina',\n",
       " 'Superhuman_Strength',\n",
       " 'Techno-Organic_Virus',\n",
       " 'Technopaths',\n",
       " 'Telekinesis',\n",
       " 'Telepaths',\n",
       " 'Teleporters',\n",
       " 'Tentacles',\n",
       " 'Thermokinesis',\n",
       " 'Time_Travelers',\n",
       " 'Toxic',\n",
       " 'Transmutation',\n",
       " 'Trichokinesis',\n",
       " 'Underwater_Breathing',\n",
       " 'Virtual_Reality_User',\n",
       " 'Voodoo',\n",
       " 'Wallcrawling',\n",
       " 'Web-Slinging',\n",
       " 'Wind_Breath',\n",
       " 'X-Ray_Vision',\n",
       " 'Zoopathy']"
      ]
     },
     "execution_count": 10,
     "metadata": {},
     "output_type": "execute_result"
    }
   ],
   "source": [
    "powers"
   ]
  },
  {
   "cell_type": "code",
   "execution_count": 11,
   "metadata": {
    "collapsed": true
   },
   "outputs": [],
   "source": [
    "power_site = \"http://marvel.wikia.com/wiki/Category:%s?display=page&sort=mostvisited\""
   ]
  },
  {
   "cell_type": "code",
   "execution_count": 12,
   "metadata": {
    "collapsed": true
   },
   "outputs": [],
   "source": [
    "more_site = \"http://marvel.wikia.com/wiki/Category:%s?display=page&sort=mostvisited&pagefrom=%s#mw-pages\""
   ]
  },
  {
   "cell_type": "code",
   "execution_count": 13,
   "metadata": {
    "collapsed": true
   },
   "outputs": [],
   "source": [
    "r = requests.get(power_site % powers[4])"
   ]
  },
  {
   "cell_type": "code",
   "execution_count": 14,
   "metadata": {
    "collapsed": false
   },
   "outputs": [
    {
     "name": "stderr",
     "output_type": "stream",
     "text": [
      "/home/maurice/anaconda3/lib/python3.5/site-packages/bs4/__init__.py:166: UserWarning: No parser was explicitly specified, so I'm using the best available HTML parser for this system (\"lxml\"). This usually isn't a problem, but if you run this code on another system, or in a different virtual environment, it may use a different parser and behave differently.\n",
      "\n",
      "To get rid of this warning, change this:\n",
      "\n",
      " BeautifulSoup([your markup])\n",
      "\n",
      "to this:\n",
      "\n",
      " BeautifulSoup([your markup], \"lxml\")\n",
      "\n",
      "  markup_type=markup_type))\n"
     ]
    }
   ],
   "source": [
    "soup = BeautifulSoup(r.content)"
   ]
  },
  {
   "cell_type": "code",
   "execution_count": 19,
   "metadata": {
    "collapsed": false
   },
   "outputs": [
    {
     "name": "stderr",
     "output_type": "stream",
     "text": [
      "/home/maurice/anaconda3/lib/python3.5/site-packages/bs4/__init__.py:166: UserWarning: No parser was explicitly specified, so I'm using the best available HTML parser for this system (\"lxml\"). This usually isn't a problem, but if you run this code on another system, or in a different virtual environment, it may use a different parser and behave differently.\n",
      "\n",
      "To get rid of this warning, change this:\n",
      "\n",
      " BeautifulSoup([your markup])\n",
      "\n",
      "to this:\n",
      "\n",
      " BeautifulSoup([your markup], \"lxml\")\n",
      "\n",
      "  markup_type=markup_type))\n"
     ]
    }
   ],
   "source": [
    "master = []\n",
    "\n",
    "for j in range(len(powers)):\n",
    "    r = requests.get(power_site % powers[j])\n",
    "    soup = BeautifulSoup(r.content)\n",
    "    heros = []\n",
    "    i = 18\n",
    "    NEXT = True\n",
    "    count = 0\n",
    "    while(NEXT):\n",
    "        try:\n",
    "            p = soup.findAll('ul')[i].findAll('a')\n",
    "        except:\n",
    "            break\n",
    "         \n",
    "        for K in range(len(p)):\n",
    "            count = count + 1\n",
    "            try:\n",
    "                tag = p[K].contents.pop(0)\n",
    "            except:\n",
    "                continue\n",
    "            if((tag == 'Characters by Power')):\n",
    "                NEXT = False\n",
    "                break\n",
    "            elif(count > 195):\n",
    "                tag2 = tag.replace(' ', '+')\n",
    "                site = more_site%(powers[j], tag2)\n",
    "                r = requests.get(site)\n",
    "                soup = BeautifulSoup(r.content)\n",
    "                i = 18\n",
    "                count = 0\n",
    "                       \n",
    "        \n",
    "            heros.append(tag)\n",
    "        i = i + 1\n",
    "    \n",
    "    master.append(heros)\n",
    "\n",
    "        \n",
    "   \n",
    "       \n"
   ]
  },
  {
   "cell_type": "code",
   "execution_count": null,
   "metadata": {
    "collapsed": false
   },
   "outputs": [],
   "source": []
  },
  {
   "cell_type": "code",
   "execution_count": 20,
   "metadata": {
    "collapsed": false
   },
   "outputs": [],
   "source": [
    "for i in range(len(powers)):\n",
    "    for j in range(len(master[i])):\n",
    "        datafile.writerow([master[i][j], powers[i]])"
   ]
  },
  {
   "cell_type": "code",
   "execution_count": null,
   "metadata": {
    "collapsed": false
   },
   "outputs": [],
   "source": []
  },
  {
   "cell_type": "code",
   "execution_count": 21,
   "metadata": {
    "collapsed": false
   },
   "outputs": [],
   "source": [
    "out_put.close()"
   ]
  },
  {
   "cell_type": "code",
   "execution_count": 232,
   "metadata": {
    "collapsed": false
   },
   "outputs": [
    {
     "data": {
      "text/plain": [
       "<ul><li><a href=\"/wiki/Category:Battlesuits\" title=\"Category:Battlesuits\">Battlesuits</a></li></ul>"
      ]
     },
     "execution_count": 232,
     "metadata": {},
     "output_type": "execute_result"
    }
   ],
   "source": [
    "soup.findAll('ul')[18]"
   ]
  },
  {
   "cell_type": "code",
   "execution_count": null,
   "metadata": {
    "collapsed": true
   },
   "outputs": [],
   "source": []
  }
 ],
 "metadata": {
  "kernelspec": {
   "display_name": "Python 3",
   "language": "python",
   "name": "python3"
  },
  "language_info": {
   "codemirror_mode": {
    "name": "ipython",
    "version": 3
   },
   "file_extension": ".py",
   "mimetype": "text/x-python",
   "name": "python",
   "nbconvert_exporter": "python",
   "pygments_lexer": "ipython3",
   "version": "3.5.1"
  }
 },
 "nbformat": 4,
 "nbformat_minor": 0
}
