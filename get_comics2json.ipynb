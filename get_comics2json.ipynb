{
 "cells": [
  {
   "cell_type": "code",
   "execution_count": 47,
   "metadata": {
    "collapsed": false
   },
   "outputs": [],
   "source": [
    "import requests\n",
    "import hashlib\n",
    "import datetime\n",
    "import string\n",
    "import csv\n",
    "import json"
   ]
  },
  {
   "cell_type": "code",
   "execution_count": 48,
   "metadata": {
    "collapsed": false
   },
   "outputs": [],
   "source": [
    "public_key = \"a6d013486e4b973db952de93bbd7e9e1\"\n",
    "private_key = \"34163fb9a36d630b304913d9bfc624805efdfe9b\"\n"
   ]
  },
  {
   "cell_type": "code",
   "execution_count": 49,
   "metadata": {
    "collapsed": false
   },
   "outputs": [],
   "source": [
    "def get_TS_HASH( pub_key, priv_key):\n",
    "    ts = str(datetime.datetime.now()).replace(\" \", \"\").replace(\".\", \"\").replace(\"-\", \"\").replace(\":\", \"\")\n",
    "    m = hashlib.md5()\n",
    "    h = ts + priv_key + pub_key\n",
    "    m.update( h.encode('utf-8'))\n",
    "    h = m.hexdigest()\n",
    "    return ts, h\n",
    "    "
   ]
  },
  {
   "cell_type": "code",
   "execution_count": 50,
   "metadata": {
    "collapsed": false
   },
   "outputs": [],
   "source": [
    "def make_url(base_url,limit,offset, pub_key, priv_key):\n",
    "    ts, h = get_TS_HASH( pub_key, priv_key)\n",
    "    get_url = base_url + '?ts=' + ts + '&limit=' + str(limit) + '&offset=' + str(offset) + \"&apikey=\" + pub_key + '&hash=' + h\n",
    "    return get_url"
   ]
  },
  {
   "cell_type": "code",
   "execution_count": 51,
   "metadata": {
    "collapsed": false
   },
   "outputs": [],
   "source": [
    "events_url = \"http://gateway.marvel.com:80/v1/public/comics\""
   ]
  },
  {
   "cell_type": "code",
   "execution_count": 52,
   "metadata": {
    "collapsed": false
   },
   "outputs": [],
   "source": [
    "count = 36600\n",
    "r = requests.get(make_url(events_url, 100, count, public_key, private_key))\n",
    "if(r.status_code != 200):\n",
    "    print(\"something wrong!!! error code of %d\"% r.status_code)\n",
    "    \n",
    "js = r.json()\n",
    "total = js['data']['total']"
   ]
  },
  {
   "cell_type": "code",
   "execution_count": null,
   "metadata": {
    "collapsed": false
   },
   "outputs": [],
   "source": []
  },
  {
   "cell_type": "code",
   "execution_count": 53,
   "metadata": {
    "collapsed": false
   },
   "outputs": [],
   "source": [
    "\n",
    "while(count < total):\n",
    "    count = count + js['data']['count']\n",
    "    with open('./comic_json/comic' + str(count) + '.json', 'w') as f:\n",
    "        json.dump(js, f)\n",
    "    \n",
    "    r = requests.get(make_url(events_url, 100, count, public_key, private_key))\n",
    "    if(r.status_code != 200):\n",
    "        print(\"something wrong!!! error code of %d\"% r.status_code)\n",
    "        break\n",
    "    \n",
    "    js = r.json()\n",
    "    \n",
    "    \n",
    "        \n",
    "        \n",
    "    \n",
    "    "
   ]
  },
  {
   "cell_type": "code",
   "execution_count": 56,
   "metadata": {
    "collapsed": false
   },
   "outputs": [
    {
     "data": {
      "text/plain": [
       "True"
      ]
     },
     "execution_count": 56,
     "metadata": {},
     "output_type": "execute_result"
    }
   ],
   "source": [
    "count >= total"
   ]
  },
  {
   "cell_type": "markdown",
   "metadata": {
    "collapsed": true
   },
   "source": [
    "# missing 18900"
   ]
  },
  {
   "cell_type": "code",
   "execution_count": null,
   "metadata": {
    "collapsed": true
   },
   "outputs": [],
   "source": []
  }
 ],
 "metadata": {
  "kernelspec": {
   "display_name": "Python 3",
   "language": "python",
   "name": "python3"
  },
  "language_info": {
   "codemirror_mode": {
    "name": "ipython",
    "version": 3
   },
   "file_extension": ".py",
   "mimetype": "text/x-python",
   "name": "python",
   "nbconvert_exporter": "python",
   "pygments_lexer": "ipython3",
   "version": "3.5.1"
  }
 },
 "nbformat": 4,
 "nbformat_minor": 0
}
