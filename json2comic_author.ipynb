{
 "cells": [
  {
   "cell_type": "code",
   "execution_count": 74,
   "metadata": {
    "collapsed": true
   },
   "outputs": [],
   "source": [
    "import json\n",
    "import glob\n",
    "import csv\n",
    "import string"
   ]
  },
  {
   "cell_type": "code",
   "execution_count": 75,
   "metadata": {
    "collapsed": true
   },
   "outputs": [],
   "source": [
    "filepath = 'comics2event.csv'"
   ]
  },
  {
   "cell_type": "code",
   "execution_count": 76,
   "metadata": {
    "collapsed": false
   },
   "outputs": [
    {
     "data": {
      "text/plain": [
       "19"
      ]
     },
     "execution_count": 76,
     "metadata": {},
     "output_type": "execute_result"
    }
   ],
   "source": [
    "out_put = open(filepath, \"w+\", newline='')\n",
    "datafile = csv.writer(out_put)      \n",
    "header = ['event_id','event_id']\n",
    "datafile.writerow(header)"
   ]
  },
  {
   "cell_type": "code",
   "execution_count": 77,
   "metadata": {
    "collapsed": true
   },
   "outputs": [],
   "source": [
    "files =  glob.glob('./comic_json/*.json')"
   ]
  },
  {
   "cell_type": "code",
   "execution_count": 81,
   "metadata": {
    "collapsed": false
   },
   "outputs": [
    {
     "data": {
      "text/plain": [
       "'./comic_json/comic29600.json'"
      ]
     },
     "execution_count": 81,
     "metadata": {},
     "output_type": "execute_result"
    }
   ],
   "source": [
    "with open(files[0]) as data_file:\n",
    "    data = json.load(data_file)['data']['results']\n",
    "files[0] "
   ]
  },
  {
   "cell_type": "code",
   "execution_count": 79,
   "metadata": {
    "collapsed": false
   },
   "outputs": [
    {
     "data": {
      "text/plain": [
       "False"
      ]
     },
     "execution_count": 79,
     "metadata": {},
     "output_type": "execute_result"
    }
   ],
   "source": [
    "data[0]['events']['available'] > data[0]['events']['returned'] "
   ]
  },
  {
   "cell_type": "code",
   "execution_count": 82,
   "metadata": {
    "collapsed": false
   },
   "outputs": [
    {
     "data": {
      "text/plain": [
       "12729"
      ]
     },
     "execution_count": 82,
     "metadata": {},
     "output_type": "execute_result"
    }
   ],
   "source": [
    "data[0]['id']"
   ]
  },
  {
   "cell_type": "code",
   "execution_count": 80,
   "metadata": {
    "collapsed": false
   },
   "outputs": [],
   "source": [
    "for i in data[0]['events']['items']:\n",
    "    print(i['resourceURI'].split('/')[-1])"
   ]
  },
  {
   "cell_type": "code",
   "execution_count": 43,
   "metadata": {
    "collapsed": false
   },
   "outputs": [],
   "source": [
    "i = 0\n",
    "api = []\n",
    "not_api = []\n",
    "for fn in files:\n",
    "    with open(fn) as data_file:\n",
    "        data = json.load(data_file)['data']['results']\n",
    "        for comic in data:\n",
    "            idd = comic['id']\n",
    "            avail = comic['creators']['available']\n",
    "            returned = data[0]['creators']['returned'] \n",
    "            if avail > 20:\n",
    "                api.append(idd)\n",
    "                continue\n",
    "            \n",
    "            not_api.append(idd)\n",
    "            if(len(comic['creators']['items']) == 0):\n",
    "                i = i + 1\n",
    "                \n",
    "            for char in comic['creators']['items']:\n",
    "                row = []\n",
    "                row.append(idd)\n",
    "                row.append(char['resourceURI'].split('/')[-1])\n",
    "                datafile.writerow(row)\n",
    "            \n",
    "                \n",
    "        \n",
    "        \n"
   ]
  },
  {
   "cell_type": "code",
   "execution_count": 44,
   "metadata": {
    "collapsed": false
   },
   "outputs": [
    {
     "data": {
      "text/plain": [
       "[10141,\n",
       " 22417,\n",
       " 22418,\n",
       " 22433,\n",
       " 21300,\n",
       " 15518,\n",
       " 10131,\n",
       " 15511,\n",
       " 10129,\n",
       " 1903,\n",
       " 1909,\n",
       " 6935,\n",
       " 10148,\n",
       " 10146,\n",
       " 21625,\n",
       " 21626,\n",
       " 20740,\n",
       " 21618,\n",
       " 23862,\n",
       " 10041,\n",
       " 16210,\n",
       " 16206,\n",
       " 16222,\n",
       " 10083,\n",
       " 10080,\n",
       " 18156,\n",
       " 2997,\n",
       " 957,\n",
       " 2577,\n",
       " 23890,\n",
       " 1500,\n",
       " 1404,\n",
       " 1460,\n",
       " 1498,\n",
       " 22609,\n",
       " 28958,\n",
       " 28840,\n",
       " 21450,\n",
       " 21418,\n",
       " 49970,\n",
       " 3171,\n",
       " 3218,\n",
       " 1313,\n",
       " 27095,\n",
       " 1237,\n",
       " 57439,\n",
       " 3965,\n",
       " 12139,\n",
       " 2001,\n",
       " 2006,\n",
       " 2005,\n",
       " 10150,\n",
       " 15572,\n",
       " 1676,\n",
       " 1672,\n",
       " 33018,\n",
       " 17677,\n",
       " 17676,\n",
       " 17686,\n",
       " 13181,\n",
       " 10171,\n",
       " 10170,\n",
       " 17467,\n",
       " 16897,\n",
       " 16877,\n",
       " 25299,\n",
       " 25877,\n",
       " 1216,\n",
       " 1194,\n",
       " 12148,\n",
       " 39287,\n",
       " 42202,\n",
       " 32631,\n",
       " 28844,\n",
       " 5784,\n",
       " 5858,\n",
       " 5844,\n",
       " 5799,\n",
       " 5785,\n",
       " 18656,\n",
       " 5660,\n",
       " 5705,\n",
       " 51707,\n",
       " 22058,\n",
       " 21813,\n",
       " 6156,\n",
       " 17509,\n",
       " 23302,\n",
       " 12614,\n",
       " 6777,\n",
       " 10021,\n",
       " 10020,\n",
       " 10019,\n",
       " 10018,\n",
       " 15343,\n",
       " 23030,\n",
       " 2523,\n",
       " 2592,\n",
       " 2817,\n",
       " 2841,\n",
       " 27450,\n",
       " 16645,\n",
       " 46086,\n",
       " 26104,\n",
       " 24407,\n",
       " 26106,\n",
       " 10179,\n",
       " 10178,\n",
       " 4778,\n",
       " 4802,\n",
       " 17482,\n",
       " 17465,\n",
       " 10180,\n",
       " 7454,\n",
       " 1025,\n",
       " 1073,\n",
       " 1034,\n",
       " 1025,\n",
       " 1073,\n",
       " 1034,\n",
       " 1040,\n",
       " 1074,\n",
       " 10099,\n",
       " 10096,\n",
       " 19821,\n",
       " 5060,\n",
       " 5132,\n",
       " 21813,\n",
       " 21430,\n",
       " 21295,\n",
       " 4095,\n",
       " 4114,\n",
       " 4090,\n",
       " 16657,\n",
       " 16654,\n",
       " 1585,\n",
       " 1587,\n",
       " 5136,\n",
       " 12127,\n",
       " 6156,\n",
       " 5998,\n",
       " 2982,\n",
       " 2371,\n",
       " 2820,\n",
       " 2319,\n",
       " 2314,\n",
       " 2332,\n",
       " 22408,\n",
       " 22435,\n",
       " 22420,\n",
       " 22403,\n",
       " 22424,\n",
       " 22409,\n",
       " 3218,\n",
       " 3633,\n",
       " 31261,\n",
       " 28769,\n",
       " 31489,\n",
       " 5958,\n",
       " 5970,\n",
       " 30885,\n",
       " 48299,\n",
       " 47659,\n",
       " 10076,\n",
       " 10033,\n",
       " 16898,\n",
       " 8701,\n",
       " 10022,\n",
       " 6932,\n",
       " 16675,\n",
       " 10011,\n",
       " 10174,\n",
       " 1186,\n",
       " 1185,\n",
       " 1164,\n",
       " 1169,\n",
       " 1161,\n",
       " 1113,\n",
       " 1097,\n",
       " 1103,\n",
       " 17454,\n",
       " 17450,\n",
       " 25795,\n",
       " 16652,\n",
       " 17468,\n",
       " 5589,\n",
       " 5369,\n",
       " 5280,\n",
       " 1130,\n",
       " 10123,\n",
       " 6933,\n",
       " 20913,\n",
       " 20946,\n",
       " 10110,\n",
       " 10109,\n",
       " 10107,\n",
       " 10106,\n",
       " 10105,\n",
       " 19861,\n",
       " 10103,\n",
       " 10102,\n",
       " 53458,\n",
       " 51435,\n",
       " 30732,\n",
       " 4475,\n",
       " 4461,\n",
       " 4454,\n",
       " 32631,\n",
       " 18172,\n",
       " 42117,\n",
       " 2218,\n",
       " 52953,\n",
       " 27443,\n",
       " 29303,\n",
       " 27927,\n",
       " 23583,\n",
       " 15516,\n",
       " 10045,\n",
       " 10043,\n",
       " 1780,\n",
       " 1653,\n",
       " 48287,\n",
       " 10017,\n",
       " 10016,\n",
       " 10015,\n",
       " 10013,\n",
       " 10184,\n",
       " 18336,\n",
       " 16018,\n",
       " 16031,\n",
       " 16033,\n",
       " 3512,\n",
       " 12604,\n",
       " 14433,\n",
       " 7354,\n",
       " 15522,\n",
       " 15517,\n",
       " 2141,\n",
       " 2110,\n",
       " 2089,\n",
       " 18112,\n",
       " 10111,\n",
       " 12146,\n",
       " 1087,\n",
       " 1079,\n",
       " 1033,\n",
       " 1007,\n",
       " 1043,\n",
       " 1020,\n",
       " 3440,\n",
       " 3631,\n",
       " 3380,\n",
       " 3435,\n",
       " 47904,\n",
       " 25876,\n",
       " 19862,\n",
       " 4205,\n",
       " 4100,\n",
       " 21085,\n",
       " 1038,\n",
       " 10181,\n",
       " 10036,\n",
       " 16902,\n",
       " 10034,\n",
       " 10032,\n",
       " 15917,\n",
       " 15914,\n",
       " 15916,\n",
       " 19920,\n",
       " 1377,\n",
       " 1357,\n",
       " 1363,\n",
       " 6319,\n",
       " 49677,\n",
       " 49676,\n",
       " 4297,\n",
       " 4296,\n",
       " 21082,\n",
       " 21072,\n",
       " 21073,\n",
       " 16226,\n",
       " 5640,\n",
       " 5127,\n",
       " 5637,\n",
       " 5368,\n",
       " 5453,\n",
       " 5451,\n",
       " 10180,\n",
       " 29318,\n",
       " 29317,\n",
       " 14388,\n",
       " 21618,\n",
       " 21631,\n",
       " 36583,\n",
       " 24036,\n",
       " 2539,\n",
       " 49969,\n",
       " 48725,\n",
       " 23015,\n",
       " 23031,\n",
       " 22606,\n",
       " 23004,\n",
       " 23037,\n",
       " 22601,\n",
       " 23032,\n",
       " 1151,\n",
       " 1152]"
      ]
     },
     "execution_count": 44,
     "metadata": {},
     "output_type": "execute_result"
    }
   ],
   "source": [
    "api"
   ]
  },
  {
   "cell_type": "code",
   "execution_count": 45,
   "metadata": {
    "collapsed": false
   },
   "outputs": [
    {
     "data": {
      "text/plain": [
       "307"
      ]
     },
     "execution_count": 45,
     "metadata": {},
     "output_type": "execute_result"
    }
   ],
   "source": [
    "len(api)"
   ]
  },
  {
   "cell_type": "code",
   "execution_count": 46,
   "metadata": {
    "collapsed": false
   },
   "outputs": [
    {
     "data": {
      "text/plain": [
       "36452"
      ]
     },
     "execution_count": 46,
     "metadata": {},
     "output_type": "execute_result"
    }
   ],
   "source": [
    "len(not_api)"
   ]
  },
  {
   "cell_type": "code",
   "execution_count": 47,
   "metadata": {
    "collapsed": false
   },
   "outputs": [
    {
     "data": {
      "text/plain": [
       "4319"
      ]
     },
     "execution_count": 47,
     "metadata": {},
     "output_type": "execute_result"
    }
   ],
   "source": [
    "i"
   ]
  },
  {
   "cell_type": "code",
   "execution_count": 48,
   "metadata": {
    "collapsed": true
   },
   "outputs": [],
   "source": [
    "out_put.close()"
   ]
  },
  {
   "cell_type": "code",
   "execution_count": 49,
   "metadata": {
    "collapsed": true
   },
   "outputs": [],
   "source": [
    "import requests\n",
    "import hashlib\n",
    "import datetime\n",
    "import string\n",
    "import csv"
   ]
  },
  {
   "cell_type": "code",
   "execution_count": 50,
   "metadata": {
    "collapsed": true
   },
   "outputs": [],
   "source": [
    "public_key = \"2990a1aae96d40df9612767f23e2cf01\"\n",
    "private_key = \"3952fc6b62f02a30c86ee6ced917550f08f743ec\""
   ]
  },
  {
   "cell_type": "code",
   "execution_count": 51,
   "metadata": {
    "collapsed": true
   },
   "outputs": [],
   "source": [
    "def get_TS_HASH( pub_key, priv_key):\n",
    "    ts = str(datetime.datetime.now()).replace(\" \", \"\").replace(\".\", \"\").replace(\"-\", \"\").replace(\":\", \"\")\n",
    "    m = hashlib.md5()\n",
    "    h = ts + priv_key + pub_key\n",
    "    m.update( h.encode('utf-8'))\n",
    "    h = m.hexdigest()\n",
    "    return ts, h\n",
    "    "
   ]
  },
  {
   "cell_type": "code",
   "execution_count": 52,
   "metadata": {
    "collapsed": true
   },
   "outputs": [],
   "source": [
    "def make_url(base_url,limit,offset, pub_key, priv_key):\n",
    "    ts, h = get_TS_HASH( pub_key, priv_key)\n",
    "    get_url = base_url + '?ts=' + ts + '&limit=' + str(limit) + '&offset=' + str(offset) + \"&apikey=\" + pub_key + '&hash=' + h\n",
    "    return get_url"
   ]
  },
  {
   "cell_type": "code",
   "execution_count": 53,
   "metadata": {
    "collapsed": true
   },
   "outputs": [],
   "source": [
    "out_put = open(filepath, \"a\", newline='')\n",
    "datafile = csv.writer(out_put) "
   ]
  },
  {
   "cell_type": "code",
   "execution_count": 54,
   "metadata": {
    "collapsed": false
   },
   "outputs": [],
   "source": [
    "comic_id = api[:]"
   ]
  },
  {
   "cell_type": "code",
   "execution_count": 55,
   "metadata": {
    "collapsed": true
   },
   "outputs": [],
   "source": [
    "count = 0"
   ]
  },
  {
   "cell_type": "code",
   "execution_count": 56,
   "metadata": {
    "collapsed": true
   },
   "outputs": [],
   "source": [
    "comic_charID_url = 'http://gateway.marvel.com:80/v1/public/comics/%s/creators'"
   ]
  },
  {
   "cell_type": "code",
   "execution_count": 57,
   "metadata": {
    "collapsed": false
   },
   "outputs": [],
   "source": [
    "r = requests.get(make_url(comic_charID_url % str(comic_id[1]), 100, count, public_key, private_key))"
   ]
  },
  {
   "cell_type": "code",
   "execution_count": 58,
   "metadata": {
    "collapsed": false
   },
   "outputs": [],
   "source": [
    "data = r.json()['data']\n",
    "total = data['total']"
   ]
  },
  {
   "cell_type": "code",
   "execution_count": 59,
   "metadata": {
    "collapsed": false
   },
   "outputs": [],
   "source": [
    "#idd = comic_id.index(5589)"
   ]
  },
  {
   "cell_type": "code",
   "execution_count": 60,
   "metadata": {
    "collapsed": false
   },
   "outputs": [],
   "source": [
    "#idd = idd + 2"
   ]
  },
  {
   "cell_type": "code",
   "execution_count": 61,
   "metadata": {
    "collapsed": true
   },
   "outputs": [],
   "source": [
    "#comic_id = comic_id[idd:len(comic_id)]"
   ]
  },
  {
   "cell_type": "code",
   "execution_count": 62,
   "metadata": {
    "collapsed": false
   },
   "outputs": [],
   "source": [
    "for i in range(len(comic_id)):\n",
    "    count = 0\n",
    "    url = (comic_charID_url % comic_id[i])\n",
    "    r = requests.get(make_url(url, 100, count, public_key, private_key))\n",
    "    if(r.status_code != 200):\n",
    "        print(\"something wrong!!! error code of %d\"% r.status_code)\n",
    "        break\n",
    "    data = r.json()['data']\n",
    "    total = data['total']\n",
    "    while(1):\n",
    "        count = count + data['count']\n",
    "        for char in data['results']:\n",
    "            row = []\n",
    "            row.append(comic_id[i])\n",
    "            row.append(char['id'])\n",
    "            datafile.writerow(row)\n",
    "        if(count > total):\n",
    "            break\n",
    "        if(r.status_code != 200):\n",
    "            print(\"something wrong!!! error code of %d\"% r.status_code)\n",
    "            break\n",
    "        data = r.json()['data']\n",
    "        \n",
    "        \n",
    "        \n",
    "        \n",
    "        \n",
    "    \n",
    "    \n",
    "    "
   ]
  },
  {
   "cell_type": "code",
   "execution_count": 63,
   "metadata": {
    "collapsed": false
   },
   "outputs": [],
   "source": [
    "out_put.close()"
   ]
  },
  {
   "cell_type": "code",
   "execution_count": null,
   "metadata": {
    "collapsed": true
   },
   "outputs": [],
   "source": []
  },
  {
   "cell_type": "code",
   "execution_count": null,
   "metadata": {
    "collapsed": true
   },
   "outputs": [],
   "source": []
  }
 ],
 "metadata": {
  "kernelspec": {
   "display_name": "Python 3",
   "language": "python",
   "name": "python3"
  },
  "language_info": {
   "codemirror_mode": {
    "name": "ipython",
    "version": 3
   },
   "file_extension": ".py",
   "mimetype": "text/x-python",
   "name": "python",
   "nbconvert_exporter": "python",
   "pygments_lexer": "ipython3",
   "version": "3.5.1"
  }
 },
 "nbformat": 4,
 "nbformat_minor": 0
}
