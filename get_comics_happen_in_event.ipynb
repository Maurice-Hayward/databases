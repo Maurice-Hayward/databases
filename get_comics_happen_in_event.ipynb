{
 "cells": [
  {
   "cell_type": "code",
   "execution_count": 32,
   "metadata": {
    "collapsed": false
   },
   "outputs": [],
   "source": [
    "import requests\n",
    "import hashlib\n",
    "import datetime\n",
    "import string\n",
    "import csv"
   ]
  },
  {
   "cell_type": "code",
   "execution_count": 33,
   "metadata": {
    "collapsed": false
   },
   "outputs": [],
   "source": [
    "public_key = \"bbca2c9c88fb26b6186f7adc5dafbc3e\"\n",
    "private_key = \"f850ae27c606bc96740132921ab101c0e69d6511\"\n",
    "filepath = \"comics_characters_appeared_in.csv\""
   ]
  },
  {
   "cell_type": "code",
   "execution_count": 34,
   "metadata": {
    "collapsed": false
   },
   "outputs": [],
   "source": [
    "def get_TS_HASH( pub_key, priv_key):\n",
    "    ts = str(datetime.datetime.now()).replace(\" \", \"\").replace(\".\", \"\").replace(\"-\", \"\").replace(\":\", \"\")\n",
    "    m = hashlib.md5()\n",
    "    h = ts + priv_key + pub_key\n",
    "    m.update( h.encode('utf-8'))\n",
    "    h = m.hexdigest()\n",
    "    return ts, h\n",
    "    "
   ]
  },
  {
   "cell_type": "code",
   "execution_count": 35,
   "metadata": {
    "collapsed": false
   },
   "outputs": [],
   "source": [
    "def make_url(base_url,limit,offset, pub_key, priv_key):\n",
    "    ts, h = get_TS_HASH( pub_key, priv_key)\n",
    "    get_url = base_url + '?ts=' + ts + '&limit=' + str(limit) + '&offset=' + str(offset) + \"&apikey=\" + pub_key + '&hash=' + h\n",
    "    return get_url"
   ]
  },
  {
   "cell_type": "code",
   "execution_count": 36,
   "metadata": {
    "collapsed": false
   },
   "outputs": [
    {
     "data": {
      "text/plain": [
       "19"
      ]
     },
     "execution_count": 36,
     "metadata": {},
     "output_type": "execute_result"
    }
   ],
   "source": [
    "filepath = 'comics_by_event_happen_in.csv'\n",
    "out_put = open(filepath, \"w+\", newline='')\n",
    "datafile = csv.writer(out_put) \n",
    "header = ['event_id','comic_id']\n",
    "datafile.writerow(header)"
   ]
  },
  {
   "cell_type": "code",
   "execution_count": 37,
   "metadata": {
    "collapsed": false
   },
   "outputs": [],
   "source": [
    "event_comic_url = \"http://gateway.marvel.com:80/v1/public/events/%s/comics\""
   ]
  },
  {
   "cell_type": "code",
   "execution_count": 38,
   "metadata": {
    "collapsed": false
   },
   "outputs": [],
   "source": [
    "event_file = open('./event.csv', \"r\")\n",
    "event_file.readline()\n",
    "event_id = []\n",
    "for line in  event_file:\n",
    "    event_id.append( line.split(',')[0])\n",
    "event_file.close()"
   ]
  },
  {
   "cell_type": "code",
   "execution_count": 39,
   "metadata": {
    "collapsed": false
   },
   "outputs": [
    {
     "name": "stdout",
     "output_type": "stream",
     "text": [
      "something wrong!!! error code of 429\n"
     ]
    },
    {
     "ename": "KeyError",
     "evalue": "'data'",
     "output_type": "error",
     "traceback": [
      "\u001b[1;31m---------------------------------------------------------------------------\u001b[0m",
      "\u001b[1;31mKeyError\u001b[0m                                  Traceback (most recent call last)",
      "\u001b[1;32m<ipython-input-39-a5b057f4afa6>\u001b[0m in \u001b[0;36m<module>\u001b[1;34m()\u001b[0m\n\u001b[0;32m      5\u001b[0m     \u001b[1;32mif\u001b[0m\u001b[1;33m(\u001b[0m\u001b[0mr\u001b[0m\u001b[1;33m.\u001b[0m\u001b[0mstatus_code\u001b[0m \u001b[1;33m!=\u001b[0m \u001b[1;36m200\u001b[0m\u001b[1;33m)\u001b[0m\u001b[1;33m:\u001b[0m\u001b[1;33m\u001b[0m\u001b[0m\n\u001b[0;32m      6\u001b[0m         \u001b[0mprint\u001b[0m\u001b[1;33m(\u001b[0m\u001b[1;34m\"something wrong!!! error code of %d\"\u001b[0m\u001b[1;33m%\u001b[0m \u001b[0mr\u001b[0m\u001b[1;33m.\u001b[0m\u001b[0mstatus_code\u001b[0m\u001b[1;33m)\u001b[0m\u001b[1;33m\u001b[0m\u001b[0m\n\u001b[1;32m----> 7\u001b[1;33m     \u001b[0mdata\u001b[0m \u001b[1;33m=\u001b[0m \u001b[0mr\u001b[0m\u001b[1;33m.\u001b[0m\u001b[0mjson\u001b[0m\u001b[1;33m(\u001b[0m\u001b[1;33m)\u001b[0m\u001b[1;33m[\u001b[0m\u001b[1;34m'data'\u001b[0m\u001b[1;33m]\u001b[0m\u001b[1;33m\u001b[0m\u001b[0m\n\u001b[0m\u001b[0;32m      8\u001b[0m     \u001b[0mtotal\u001b[0m \u001b[1;33m=\u001b[0m \u001b[0mdata\u001b[0m\u001b[1;33m[\u001b[0m\u001b[1;34m'total'\u001b[0m\u001b[1;33m]\u001b[0m\u001b[1;33m\u001b[0m\u001b[0m\n\u001b[0;32m      9\u001b[0m     \u001b[1;32mwhile\u001b[0m\u001b[1;33m(\u001b[0m\u001b[0mcount\u001b[0m \u001b[1;33m<\u001b[0m \u001b[0mtotal\u001b[0m\u001b[1;33m)\u001b[0m\u001b[1;33m:\u001b[0m\u001b[1;33m\u001b[0m\u001b[0m\n",
      "\u001b[1;31mKeyError\u001b[0m: 'data'"
     ]
    }
   ],
   "source": [
    "for i in range(len(event_id)):\n",
    "    url = (event_comic_url % event_id[i])\n",
    "    count = 0\n",
    "    r = requests.get(make_url(url, 100, count, public_key, private_key))\n",
    "    if(r.status_code != 200):\n",
    "        print(\"something wrong!!! error code of %d\"% r.status_code)\n",
    "    data = r.json()['data']\n",
    "    total = data['total']\n",
    "    while(count < total):\n",
    "        count = count + data['count']\n",
    "        for j in range(len(data['results'])):\n",
    "            row = []\n",
    "            comic = data['results'][j]\n",
    "            row.append(event_id[i])\n",
    "            row.append(comic['id'])\n",
    "            \n",
    "            datafile.writerow(row)\n",
    "    \n",
    "    r = requests.get(make_url(url, 100, count, public_key, private_key))\n",
    "        \n",
    "    if(r.status_code != 200):\n",
    "        print(\"something wrong!!! error code of %d\"% r.status_code)\n",
    "        break;\n",
    "        \n",
    "    data = r.json()['data']\n",
    "        \n",
    "        \n",
    "out_put.close()   \n",
    "    "
   ]
  },
  {
   "cell_type": "code",
   "execution_count": 177,
   "metadata": {
    "collapsed": false
   },
   "outputs": [],
   "source": []
  }
 ],
 "metadata": {
  "kernelspec": {
   "display_name": "Python 3",
   "language": "python",
   "name": "python3"
  },
  "language_info": {
   "codemirror_mode": {
    "name": "ipython",
    "version": 3
   },
   "file_extension": ".py",
   "mimetype": "text/x-python",
   "name": "python",
   "nbconvert_exporter": "python",
   "pygments_lexer": "ipython3",
   "version": "3.5.1"
  }
 },
 "nbformat": 4,
 "nbformat_minor": 0
}
