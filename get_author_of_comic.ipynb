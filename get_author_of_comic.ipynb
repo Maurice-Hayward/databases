{
 "cells": [
  {
   "cell_type": "code",
   "execution_count": 22,
   "metadata": {
    "collapsed": false
   },
   "outputs": [],
   "source": [
    "import requests\n",
    "import hashlib\n",
    "import datetime\n",
    "import string\n",
    "import csv"
   ]
  },
  {
   "cell_type": "code",
   "execution_count": 23,
   "metadata": {
    "collapsed": false
   },
   "outputs": [],
   "source": [
    "public_key = \"bbca2c9c88fb26b6186f7adc5dafbc3e\"\n",
    "private_key = \"f850ae27c606bc96740132921ab101c0e69d6511\"\n"
   ]
  },
  {
   "cell_type": "code",
   "execution_count": 24,
   "metadata": {
    "collapsed": false
   },
   "outputs": [],
   "source": [
    "def get_TS_HASH( pub_key, priv_key):\n",
    "    ts = str(datetime.datetime.now()).replace(\" \", \"\").replace(\".\", \"\").replace(\"-\", \"\").replace(\":\", \"\")\n",
    "    m = hashlib.md5()\n",
    "    h = ts + priv_key + pub_key\n",
    "    m.update( h.encode('utf-8'))\n",
    "    h = m.hexdigest()\n",
    "    return ts, h\n",
    "    "
   ]
  },
  {
   "cell_type": "code",
   "execution_count": 25,
   "metadata": {
    "collapsed": false
   },
   "outputs": [],
   "source": [
    "def make_url(base_url,limit,offset, pub_key, priv_key):\n",
    "    ts, h = get_TS_HASH( pub_key, priv_key)\n",
    "    get_url = base_url + '?ts=' + ts + '&limit=' + str(limit) + '&offset=' + str(offset) + \"&apikey=\" + pub_key + '&hash=' + h\n",
    "    return get_url"
   ]
  },
  {
   "cell_type": "code",
   "execution_count": 26,
   "metadata": {
    "collapsed": false
   },
   "outputs": [
    {
     "data": {
      "text/plain": [
       "21"
      ]
     },
     "execution_count": 26,
     "metadata": {},
     "output_type": "execute_result"
    }
   ],
   "source": [
    "filepath = 'Authored_comic.csv'\n",
    "out_put = open(filepath, \"w+\", newline='')\n",
    "datafile = csv.writer(out_put) \n",
    "header = ['comic_id','creator_id']\n",
    "datafile.writerow(header)"
   ]
  },
  {
   "cell_type": "code",
   "execution_count": 27,
   "metadata": {
    "collapsed": false
   },
   "outputs": [],
   "source": [
    "creator_comic_url = \"http://gateway.marvel.com:80/v1/public/comics/%s/creators\""
   ]
  },
  {
   "cell_type": "code",
   "execution_count": 28,
   "metadata": {
    "collapsed": false
   },
   "outputs": [],
   "source": [
    "comic_file = open('./comics.csv', \"r\")\n",
    "comic_file.readline()\n",
    "comic_id = []\n",
    "for line in  comic_file:\n",
    "    comic_id.append( line.split(',')[0])\n",
    "comic_file.close()"
   ]
  },
  {
   "cell_type": "code",
   "execution_count": 29,
   "metadata": {
    "collapsed": false
   },
   "outputs": [
    {
     "name": "stdout",
     "output_type": "stream",
     "text": [
      "something wrong!!! error code of 500\n"
     ]
    }
   ],
   "source": [
    "for i in range(len(comic_id)):\n",
    "    url = (creator_comic_url % comic_id[i])\n",
    "    count = 0\n",
    "    r = requests.get(make_url(url, 100, count, public_key, private_key))\n",
    "    if(r.status_code != 200):\n",
    "        print(\"something wrong!!! error code of %d\"% r.status_code)\n",
    "    data = r.json()['data']\n",
    "    total = data['total']\n",
    "    while(count < total):\n",
    "        count = count + data['count']\n",
    "        for j in range(len(data['results'])):\n",
    "            row = []\n",
    "            creator = data['results'][j]\n",
    "            row.append(comic_id[i])\n",
    "            row.append(creator['id'])\n",
    "            \n",
    "            datafile.writerow(row)\n",
    "    \n",
    "    r = requests.get(make_url(url, 100, count, public_key, private_key))\n",
    "        \n",
    "    if(r.status_code != 200):\n",
    "        print(\"something wrong!!! error code of %d\"% r.status_code)\n",
    "        break;\n",
    "        \n",
    "    data = r.json()['data']\n",
    "        \n",
    "        \n",
    "out_put.close()   \n",
    "    "
   ]
  },
  {
   "cell_type": "code",
   "execution_count": 177,
   "metadata": {
    "collapsed": false
   },
   "outputs": [],
   "source": []
  }
 ],
 "metadata": {
  "kernelspec": {
   "display_name": "Python 3",
   "language": "python",
   "name": "python3"
  },
  "language_info": {
   "codemirror_mode": {
    "name": "ipython",
    "version": 3
   },
   "file_extension": ".py",
   "mimetype": "text/x-python",
   "name": "python",
   "nbconvert_exporter": "python",
   "pygments_lexer": "ipython3",
   "version": "3.5.1"
  }
 },
 "nbformat": 4,
 "nbformat_minor": 0
}
