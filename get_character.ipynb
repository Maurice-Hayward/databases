{
 "cells": [
  {
   "cell_type": "code",
   "execution_count": 418,
   "metadata": {
    "collapsed": false
   },
   "outputs": [],
   "source": [
    "import requests\n",
    "import hashlib\n",
    "import datetime\n",
    "import string\n",
    "import csv\n",
    "import re"
   ]
  },
  {
   "cell_type": "code",
   "execution_count": 419,
   "metadata": {
    "collapsed": false
   },
   "outputs": [],
   "source": [
    "public_key = \"b3156ce71d0351ae10ac98eaea4b64b0\"\n",
    "private_key = \"d0ab926cd39151b1399130254d0b58857f0038ad\"\n"
   ]
  },
  {
   "cell_type": "code",
   "execution_count": 420,
   "metadata": {
    "collapsed": false
   },
   "outputs": [],
   "source": [
    "def get_TS_HASH( pub_key, priv_key):\n",
    "    ts = str(datetime.datetime.now()).replace(\" \", \"\").replace(\".\", \"\").replace(\"-\", \"\").replace(\":\", \"\")\n",
    "    m = hashlib.md5()\n",
    "    h = ts + priv_key + pub_key\n",
    "    m.update( h.encode('utf-8'))\n",
    "    h = m.hexdigest()\n",
    "    return ts, h\n",
    "    "
   ]
  },
  {
   "cell_type": "code",
   "execution_count": 421,
   "metadata": {
    "collapsed": false
   },
   "outputs": [],
   "source": [
    "def make_url(base_url,limit,offset, pub_key, priv_key):\n",
    "    ts, h = get_TS_HASH( pub_key, priv_key)\n",
    "    get_url = base_url + '?ts=' + ts + '&limit=' + str(limit) + '&offset=' + str(offset) + \"&apikey=\" + pub_key + '&hash=' + h\n",
    "    return get_url"
   ]
  },
  {
   "cell_type": "code",
   "execution_count": 422,
   "metadata": {
    "collapsed": false
   },
   "outputs": [
    {
     "data": {
      "text/plain": [
       "48"
      ]
     },
     "execution_count": 422,
     "metadata": {},
     "output_type": "execute_result"
    }
   ],
   "source": [
    "filepath = 'character_new2.csv'\n",
    "out_put = open(filepath, \"w\", newline='')\n",
    "datafile = csv.writer(out_put) \n",
    "header = ['ID','full_name',  'first_apperance', 'description', 'image']\n",
    "datafile.writerow(header)"
   ]
  },
  {
   "cell_type": "code",
   "execution_count": 423,
   "metadata": {
    "collapsed": false
   },
   "outputs": [
    {
     "data": {
      "text/plain": [
       "1485"
      ]
     },
     "execution_count": 423,
     "metadata": {},
     "output_type": "execute_result"
    }
   ],
   "source": [
    "total"
   ]
  },
  {
   "cell_type": "code",
   "execution_count": 407,
   "metadata": {
    "collapsed": false
   },
   "outputs": [],
   "source": [
    "events_url = \"http://gateway.marvel.com:80/v1/public/characters\""
   ]
  },
  {
   "cell_type": "code",
   "execution_count": 408,
   "metadata": {
    "collapsed": false
   },
   "outputs": [],
   "source": [
    "count = 1463\n",
    "r = requests.get(make_url(events_url, 20, count, public_key, private_key))\n",
    "if(r.status_code != 200):\n",
    "    print(\"something wrong!!! error code of %d\"% r.status_code)\n",
    "    \n",
    "data = r.json()['data']\n",
    "total = data['total']"
   ]
  },
  {
   "cell_type": "code",
   "execution_count": 409,
   "metadata": {
    "collapsed": false
   },
   "outputs": [
    {
     "name": "stdout",
     "output_type": "stream",
     "text": [
      "X-Men (Ultimate)\n"
     ]
    }
   ],
   "source": [
    "for i in range(len(data['results'])):\n",
    "    print(data['results'][i]['name'])"
   ]
  },
  {
   "cell_type": "code",
   "execution_count": 410,
   "metadata": {
    "collapsed": false
   },
   "outputs": [
    {
     "name": "stdout",
     "output_type": "stream",
     "text": [
      "something wrong!!! error code of 500\n"
     ]
    }
   ],
   "source": [
    "\n",
    "while(count < total):\n",
    "    count = count + data['count']\n",
    "    for i in range(len(data['results'])):\n",
    "        row = []\n",
    "        char = data['results'][i]\n",
    "       \n",
    "       \n",
    "        row.append(char['id'])\n",
    "        row.append(char['name'])\n",
    "    \n",
    "        try:\n",
    "            row.append(char['comics']['items'][0]['resourceURI'].split('/')[-1])\n",
    "        except:\n",
    "            row.append(\"null\")\n",
    "    \n",
    "        try:\n",
    "            des = char['description']\n",
    "            des = re.sub(r'[^a-zA-Z\\.\\s=]','', des).replace(\"\\n\", '')\n",
    "            if(des == \"\"):\n",
    "                des = \"null\"\n",
    "                \n",
    "            row.append(des)\n",
    "        except:\n",
    "            row.append(\"null\")\n",
    "            \n",
    "        row.append(data['results'][i]['thumbnail']['path'] + '/portrait_incredible.jpg')\n",
    "        \n",
    "        datafile.writerow(row)\n",
    "    \n",
    "    r = requests.get(make_url(events_url, 20, count, public_key, private_key))\n",
    "        \n",
    "    if(r.status_code != 200):\n",
    "        print(\"something wrong!!! error code of %d\"% r.status_code)\n",
    "        break;\n",
    "    data = r.json()['data']\n",
    "        \n",
    "        \n",
    "out_put.close()       \n",
    "            \n",
    "        \n",
    "        \n",
    "    \n",
    "    "
   ]
  },
  {
   "cell_type": "code",
   "execution_count": 411,
   "metadata": {
    "collapsed": false
   },
   "outputs": [],
   "source": [
    "out_put.close()       \n",
    "\n"
   ]
  },
  {
   "cell_type": "code",
   "execution_count": 363,
   "metadata": {
    "collapsed": false
   },
   "outputs": [
    {
     "data": {
      "text/plain": [
       "1462"
      ]
     },
     "execution_count": 363,
     "metadata": {},
     "output_type": "execute_result"
    }
   ],
   "source": [
    "count"
   ]
  },
  {
   "cell_type": "code",
   "execution_count": null,
   "metadata": {
    "collapsed": true
   },
   "outputs": [],
   "source": []
  },
  {
   "cell_type": "code",
   "execution_count": null,
   "metadata": {
    "collapsed": true
   },
   "outputs": [],
   "source": []
  },
  {
   "cell_type": "code",
   "execution_count": null,
   "metadata": {
    "collapsed": true
   },
   "outputs": [],
   "source": []
  },
  {
   "cell_type": "code",
   "execution_count": null,
   "metadata": {
    "collapsed": true
   },
   "outputs": [],
   "source": []
  }
 ],
 "metadata": {
  "kernelspec": {
   "display_name": "Python 3",
   "language": "python",
   "name": "python3"
  },
  "language_info": {
   "codemirror_mode": {
    "name": "ipython",
    "version": 3
   },
   "file_extension": ".py",
   "mimetype": "text/x-python",
   "name": "python",
   "nbconvert_exporter": "python",
   "pygments_lexer": "ipython3",
   "version": "3.5.1"
  }
 },
 "nbformat": 4,
 "nbformat_minor": 0
}
