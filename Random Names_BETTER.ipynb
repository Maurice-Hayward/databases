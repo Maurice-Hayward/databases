{
 "cells": [
  {
   "cell_type": "code",
   "execution_count": 29,
   "metadata": {
    "collapsed": true
   },
   "outputs": [],
   "source": [
    "import string\n",
    "from collections import defaultdict\n",
    "import random\n",
    "import re\n",
    "import numpy as np\n",
    "from statistics import *\n",
    "import math"
   ]
  },
  {
   "cell_type": "markdown",
   "metadata": {},
   "source": [
    "## Read in Lines"
   ]
  },
  {
   "cell_type": "code",
   "execution_count": 30,
   "metadata": {
    "collapsed": false
   },
   "outputs": [],
   "source": [
    "\n",
    "file_path = 'cl2_dash'"
   ]
  },
  {
   "cell_type": "code",
   "execution_count": 31,
   "metadata": {
    "collapsed": false
   },
   "outputs": [
    {
     "ename": "FileNotFoundError",
     "evalue": "[Errno 2] No such file or directory: 'cl2_dash'",
     "output_type": "error",
     "traceback": [
      "\u001b[1;31m---------------------------------------------------------------------------\u001b[0m",
      "\u001b[1;31mFileNotFoundError\u001b[0m                         Traceback (most recent call last)",
      "\u001b[1;32m<ipython-input-31-ca5be5102987>\u001b[0m in \u001b[0;36m<module>\u001b[1;34m()\u001b[0m\n\u001b[1;32m----> 1\u001b[1;33m \u001b[0mname_file\u001b[0m \u001b[1;33m=\u001b[0m \u001b[0mopen\u001b[0m\u001b[1;33m(\u001b[0m\u001b[0mfile_path\u001b[0m\u001b[1;33m,\u001b[0m \u001b[1;34m\"r\"\u001b[0m\u001b[1;33m)\u001b[0m\u001b[1;33m\u001b[0m\u001b[0m\n\u001b[0m",
      "\u001b[1;31mFileNotFoundError\u001b[0m: [Errno 2] No such file or directory: 'cl2_dash'"
     ]
    }
   ],
   "source": [
    "name_file = open(file_path, \"r\")"
   ]
  },
  {
   "cell_type": "code",
   "execution_count": 32,
   "metadata": {
    "collapsed": false
   },
   "outputs": [],
   "source": [
    "#line = name_file.readline().replace('\\n', \" \").replace('.', '').replace(\"'\",\"\").replace('_','').replace('\\xa0', '').replace('#','').replace('�',\"\").lower()"
   ]
  },
  {
   "cell_type": "code",
   "execution_count": 33,
   "metadata": {
    "collapsed": false
   },
   "outputs": [
    {
     "ename": "NameError",
     "evalue": "name 'name_file' is not defined",
     "output_type": "error",
     "traceback": [
      "\u001b[1;31m---------------------------------------------------------------------------\u001b[0m",
      "\u001b[1;31mNameError\u001b[0m                                 Traceback (most recent call last)",
      "\u001b[1;32m<ipython-input-33-2cf5514faffd>\u001b[0m in \u001b[0;36m<module>\u001b[1;34m()\u001b[0m\n\u001b[1;32m----> 1\u001b[1;33m \u001b[0mline\u001b[0m \u001b[1;33m=\u001b[0m  \u001b[0mname_file\u001b[0m\u001b[1;33m.\u001b[0m\u001b[0mreadline\u001b[0m\u001b[1;33m(\u001b[0m\u001b[1;33m)\u001b[0m\u001b[1;33m\u001b[0m\u001b[0m\n\u001b[0m",
      "\u001b[1;31mNameError\u001b[0m: name 'name_file' is not defined"
     ]
    }
   ],
   "source": [
    "line =  name_file.readline()"
   ]
  },
  {
   "cell_type": "code",
   "execution_count": 34,
   "metadata": {
    "collapsed": false
   },
   "outputs": [
    {
     "ename": "NameError",
     "evalue": "name 'name_file' is not defined",
     "output_type": "error",
     "traceback": [
      "\u001b[1;31m---------------------------------------------------------------------------\u001b[0m",
      "\u001b[1;31mNameError\u001b[0m                                 Traceback (most recent call last)",
      "\u001b[1;32m<ipython-input-34-e06a3138aac5>\u001b[0m in \u001b[0;36m<module>\u001b[1;34m()\u001b[0m\n\u001b[1;32m----> 1\u001b[1;33m \u001b[0mname_file\u001b[0m\u001b[1;33m.\u001b[0m\u001b[0mclose\u001b[0m\u001b[1;33m(\u001b[0m\u001b[1;33m)\u001b[0m\u001b[1;33m\u001b[0m\u001b[0m\n\u001b[0m",
      "\u001b[1;31mNameError\u001b[0m: name 'name_file' is not defined"
     ]
    }
   ],
   "source": [
    "name_file.close()"
   ]
  },
  {
   "cell_type": "markdown",
   "metadata": {},
   "source": [
    "# line = ' deadpool spider man hulk red skull iron man '"
   ]
  },
  {
   "cell_type": "code",
   "execution_count": 117,
   "metadata": {
    "collapsed": false
   },
   "outputs": [],
   "source": [
    "line = re.sub(r'[^a-zA-Z\\-\\'\\s=]','', line).replace('\\n', ' ').replace(\"'\", \" \").replace('\\xa0','').lower()"
   ]
  },
  {
   "cell_type": "code",
   "execution_count": 118,
   "metadata": {
    "collapsed": false
   },
   "outputs": [
    {
     "data": {
      "text/plain": [
       "' deadpool spider man hulk red skull iron man '"
      ]
     },
     "execution_count": 118,
     "metadata": {},
     "output_type": "execute_result"
    }
   ],
   "source": [
    "line"
   ]
  },
  {
   "cell_type": "markdown",
   "metadata": {},
   "source": [
    "## Roundoff"
   ]
  },
  {
   "cell_type": "code",
   "execution_count": 119,
   "metadata": {
    "collapsed": true
   },
   "outputs": [],
   "source": [
    "def roundoff(value):\n",
    "    if( (value < 1.0) and (value > 0.998) ):\n",
    "        return 1.0\n",
    "    else:\n",
    "        return value\n",
    "        "
   ]
  },
  {
   "cell_type": "code",
   "execution_count": 120,
   "metadata": {
    "collapsed": true
   },
   "outputs": [],
   "source": [
    "def get_length(inputt):\n",
    "    words = [ w for w in inputt.split(' ') if w != \"\"]\n",
    "    m = mean(map(len, words))\n",
    "    s = stdev(map(len, words))\n",
    "    return math.floor(random.gauss(m, s))\n",
    "    "
   ]
  },
  {
   "cell_type": "code",
   "execution_count": 121,
   "metadata": {
    "collapsed": false
   },
   "outputs": [
    {
     "name": "stdout",
     "output_type": "stream",
     "text": [
      "5\n"
     ]
    }
   ],
   "source": [
    "print(get_length(line))"
   ]
  },
  {
   "cell_type": "markdown",
   "metadata": {
    "collapsed": false
   },
   "source": [
    "## TWO LETTER FUNCTIONS"
   ]
  },
  {
   "cell_type": "code",
   "execution_count": 122,
   "metadata": {
    "collapsed": true
   },
   "outputs": [],
   "source": [
    "def count_ocurrance_two(inputt):\n",
    "    ocurrancies = defaultdict(lambda: 0)\n",
    "    \n",
    "    last_char_read = None\n",
    "    \n",
    "    for ch in inputt:\n",
    "        if (last_char_read != None):\n",
    "            ocurrancies[last_char_read +  ch] += 1\n",
    "        \n",
    "        last_char_read = ch\n",
    "    \n",
    "    return ocurrancies\n",
    "            "
   ]
  },
  {
   "cell_type": "code",
   "execution_count": 123,
   "metadata": {
    "collapsed": false
   },
   "outputs": [],
   "source": [
    "def create_fequencies_two(inputt):\n",
    "    occurences = count_ocurrance_two(inputt)\n",
    "    freq = defaultdict(lambda: 0)\n",
    "    \n",
    "    regular_occurance = { key:value for key, value in occurences.items() if key[1] != ' ' }\n",
    "    word_ending_occurances = { key:value for key, value in occurences.items() if key[1] == ' ' }\n",
    "    \n",
    "    if(len(occurences) > 0):\n",
    "        \n",
    "        for k , v in regular_occurance.items():\n",
    "            freq[k] = v / float( sum([value for key, value in regular_occurance.items() if key[0] == k[0]]))\n",
    "        \n",
    "        for k , v in word_ending_occurances.items():\n",
    "            freq[k] = v / float( sum([value for key, value in word_ending_occurances.items()]))\n",
    "    \n",
    "    return freq\n",
    "        \n",
    "        \n",
    "           \n",
    "         "
   ]
  },
  {
   "cell_type": "code",
   "execution_count": 124,
   "metadata": {
    "collapsed": false
   },
   "outputs": [],
   "source": [
    "def execute_two(freq):\n",
    "    last_key = None\n",
    "    cum_value = 0.0\n",
    "    \n",
    "    for key in sorted({k for k in  freq.keys() if k[1] != ' ' }):\n",
    "        if((last_key != None) and (last_key[0] != key[0])):\n",
    "            cum_value = 0.0\n",
    "        cum_value += freq[key]\n",
    "        cum_value = roundoff(cum_value) \n",
    "        freq[key] = cum_value\n",
    "        last_key = key\n",
    "    \n",
    "    cum_value = 0.0\n",
    "    \n",
    "    for key in sorted({k for k in  freq.keys() if k[1] == ' ' }):\n",
    "        cum_value += freq[key]\n",
    "        cum_value = roundoff(cum_value) \n",
    "        freq[key] = cum_value\n",
    "    \n",
    "    return freq\n",
    "    \n",
    "    \n",
    "        \n",
    "\n",
    "    "
   ]
  },
  {
   "cell_type": "markdown",
   "metadata": {},
   "source": [
    "## Three Letter Functions"
   ]
  },
  {
   "cell_type": "code",
   "execution_count": 125,
   "metadata": {
    "collapsed": true
   },
   "outputs": [],
   "source": [
    "def count_ocurrance_three(inputt):\n",
    "    occurances = defaultdict(lambda: 0)\n",
    "    \n",
    "    last_char = None\n",
    "    next_2_last = None\n",
    "    \n",
    "    for ch in inputt:\n",
    "        if ((last_char != None) and (next_2_last != None)):\n",
    "            occurances[next_2_last + last_char + ch] += 1\n",
    "        \n",
    "        next_2_last = last_char\n",
    "        last_char = ch\n",
    "    \n",
    "    return {key:value for key , value in occurances.items() if key[1] != ' '}"
   ]
  },
  {
   "cell_type": "code",
   "execution_count": 126,
   "metadata": {
    "collapsed": false
   },
   "outputs": [],
   "source": [
    "def create_fequencies_three(inputt):\n",
    "    occurences =  count_ocurrance_three(inputt)\n",
    "    \n",
    "    freq = defaultdict(lambda: 0)\n",
    "    \n",
    "    regular_occurance = { key:value for key, value in occurences.items() if key[2] != ' ' }\n",
    "    word_ending_occurances = { key:value for key, value in occurences.items() if key[2] == ' ' }\n",
    "    \n",
    "    if(len(occurences) > 0):\n",
    "        \n",
    "        for k , v in regular_occurance.items():\n",
    "            freq[k] = v / float( sum([value for key, value in regular_occurance.items() if (key[0] == k[0]) and (key[1] == k[1])]))\n",
    "        \n",
    "        for k , v in word_ending_occurances.items():\n",
    "            freq[k] = v / float( sum([value for key, value in word_ending_occurances.items() if k[0] == key[0]]))\n",
    "    \n",
    "    return freq\n",
    "    \n",
    "    \n",
    "    "
   ]
  },
  {
   "cell_type": "code",
   "execution_count": 127,
   "metadata": {
    "collapsed": false
   },
   "outputs": [],
   "source": [
    "def execute_three(freq):\n",
    "    last_key = None\n",
    "    cum_value = 0.0\n",
    "    \n",
    "    for key in sorted({k for k in freq.keys() if k[2] != ' '}):\n",
    "        if (last_key != None) and (last_key[0] != key[0]  or last_key[1] != key[1]):\n",
    "            cum_value = 0.0\n",
    "        \n",
    "        cum_value += freq[key]\n",
    "        \n",
    "        cum_value = roundoff(cum_value)\n",
    "        \n",
    "        freq[key] = cum_value\n",
    "        last_key = key\n",
    "    \n",
    "    last_key = None\n",
    "    cum_value = 0.0\n",
    "    \n",
    "    for key in sorted({k for k in freq.keys() if k[2] == ' '}):\n",
    "        if (last_key != None) and (last_key[0] != key[0]):\n",
    "            cum_value = 0.0\n",
    "        \n",
    "        cum_value += freq[key]\n",
    "        \n",
    "        cum_value = roundoff(cum_value)\n",
    "        \n",
    "        freq[key] = cum_value\n",
    "        last_key = key\n",
    "    \n",
    "    return freq\n",
    "    \n",
    "    "
   ]
  },
  {
   "cell_type": "markdown",
   "metadata": {
    "collapsed": true
   },
   "source": [
    "## Random Number Gen\n"
   ]
  },
  {
   "cell_type": "code",
   "execution_count": 128,
   "metadata": {
    "collapsed": true
   },
   "outputs": [],
   "source": [
    "trip_cum_prob = execute_three(create_fequencies_three(line))"
   ]
  },
  {
   "cell_type": "code",
   "execution_count": 129,
   "metadata": {
    "collapsed": true
   },
   "outputs": [],
   "source": [
    "pair_cum_prob = execute_two(create_fequencies_two(line))"
   ]
  },
  {
   "cell_type": "code",
   "execution_count": 130,
   "metadata": {
    "collapsed": false
   },
   "outputs": [],
   "source": [
    "def get_starting_letter():\n",
    "    rand = random.random()\n",
    "    \n",
    "    return sorted( [ key for key, value in pair_cum_prob.items() if key[0] == \" \" and key[1] != \" \" and value >= rand])[0][1]\n",
    "    \n",
    "    \n"
   ]
  },
  {
   "cell_type": "code",
   "execution_count": 131,
   "metadata": {
    "collapsed": false
   },
   "outputs": [],
   "source": [
    "def get_next_letter(first_letter, second_letter):\n",
    "    rand = random.random()\n",
    "    trip_list = sorted([key for key, value in trip_cum_prob.items() if key[0] == first_letter and key[1] == second_letter and key[2] != ' ' and value >= rand])\n",
    "    if(len(trip_list)):\n",
    "        return trip_list[0][2]\n",
    "    \n",
    "    pair_list = sorted([key for key, value in pair_cum_prob.items() if key[1] == second_letter and key[0] != ' ' and value >= rand])\n",
    "    if(len(pair_list)):\n",
    "        return pair_list[0][1]\n",
    "   \n",
    "    return get_starting_letter()\n",
    "        "
   ]
  },
  {
   "cell_type": "code",
   "execution_count": 132,
   "metadata": {
    "collapsed": false
   },
   "outputs": [],
   "source": [
    "def get_last_letter(current_last, sec_to_last):\n",
    "    rand = random.random()\n",
    "    \n",
    "    trip_list = sorted([key for key, value in trip_cum_prob.items() if key[0] == current_last  and key[2] == ' ' and value >= rand])\n",
    "    if(len(trip_list)):\n",
    "        return trip_list[0][1]\n",
    "    \n",
    "    valid_letters = {k[0] for k in trip_cum_prob.keys() if k[2] == ' '}\n",
    "    pair_list = sorted([key for key, value in pair_cum_prob.items() if (key[0] == current_last) and (key[1] in valid_letters) and (value >= rand)])\n",
    "    if(len(pair_list)):\n",
    "        new_last = pair_list[0][1]\n",
    "        return new_last + get_last_letter(new_last, sec_to_last)\n",
    "\n",
    "    return get_next_letter(current_last, sec_to_last)\n",
    "    "
   ]
  },
  {
   "cell_type": "code",
   "execution_count": 133,
   "metadata": {
    "collapsed": false
   },
   "outputs": [],
   "source": [
    "def generate_name(inputt):\n",
    "    name = \" \" + get_starting_letter()\n",
    "    \n",
    "    for i in range(get_length(inputt) -2):\n",
    "        name += get_next_letter(name[-2], name[-1])\n",
    "        \n",
    "    name += get_last_letter(name[-1], name[-2])\n",
    "    return name.strip().capitalize()\n",
    "    "
   ]
  },
  {
   "cell_type": "code",
   "execution_count": 164,
   "metadata": {
    "collapsed": false
   },
   "outputs": [
    {
     "name": "stdout",
     "output_type": "stream",
     "text": [
      "Iron\n",
      "Irono\n",
      "Derol\n",
      "Skulk\n",
      "Iron\n",
      "Reddded\n",
      "Reder\n",
      "Hulk\n",
      "Skulllk\n",
      "Man\n",
      "Spided\n",
      "Mannn\n",
      "Dean\n",
      "Hulkks\n",
      "Ired\n",
      "Skulk\n",
      "Derol\n",
      "Spon\n",
      "Hulllllk\n",
      "Skulk\n",
      "Reddd\n",
      "Mana\n",
      "Red\n",
      "Skulkl\n",
      "Mannnnn\n",
      "Skull\n",
      "Man\n",
      "Reded\n",
      "I\n",
      "Reder\n",
      "Ded\n",
      "Hulll\n",
      "Skulll\n",
      "Hulkkk\n",
      "Hulk\n",
      "Skull\n",
      "Der\n",
      "Mannnn\n",
      "Deaded\n",
      "I\n",
      "Mannn\n",
      "H\n",
      "Man\n",
      "Hull\n",
      "Mannnn\n",
      "Mannn\n",
      "Skm\n",
      "Mannnn\n",
      "Mannn\n",
      "Man\n"
     ]
    }
   ],
   "source": [
    "for i in range(50):\n",
    "    print(generate_name(line))"
   ]
  },
  {
   "cell_type": "code",
   "execution_count": 142,
   "metadata": {
    "collapsed": false
   },
   "outputs": [
    {
     "data": {
      "text/plain": [
       "' deadpool spider man hulk red skull iron man '"
      ]
     },
     "execution_count": 142,
     "metadata": {},
     "output_type": "execute_result"
    }
   ],
   "source": [
    "(line)"
   ]
  },
  {
   "cell_type": "code",
   "execution_count": 143,
   "metadata": {
    "collapsed": false
   },
   "outputs": [
    {
     "data": {
      "text/plain": [
       "defaultdict(<function __main__.create_fequencies_two.<locals>.<lambda>>,\n",
       "            {' d': 0.125,\n",
       "             ' h': 0.125,\n",
       "             ' i': 0.125,\n",
       "             ' m': 0.25,\n",
       "             ' r': 0.125,\n",
       "             ' s': 0.25,\n",
       "             'ad': 0.3333333333333333,\n",
       "             'an': 0.6666666666666666,\n",
       "             'd ': 0.125,\n",
       "             'de': 0.6666666666666666,\n",
       "             'dp': 0.3333333333333333,\n",
       "             'ea': 0.3333333333333333,\n",
       "             'ed': 0.3333333333333333,\n",
       "             'er': 0.3333333333333333,\n",
       "             'hu': 1.0,\n",
       "             'id': 0.5,\n",
       "             'ir': 0.5,\n",
       "             'k ': 0.125,\n",
       "             'ku': 1.0,\n",
       "             'l ': 0.25,\n",
       "             'lk': 0.5,\n",
       "             'll': 0.5,\n",
       "             'ma': 1.0,\n",
       "             'n ': 0.375,\n",
       "             'ol': 0.3333333333333333,\n",
       "             'on': 0.3333333333333333,\n",
       "             'oo': 0.3333333333333333,\n",
       "             'pi': 0.5,\n",
       "             'po': 0.5,\n",
       "             'r ': 0.125,\n",
       "             're': 0.5,\n",
       "             'ro': 0.5,\n",
       "             'sk': 0.5,\n",
       "             'sp': 0.5,\n",
       "             'ul': 1.0})"
      ]
     },
     "execution_count": 143,
     "metadata": {},
     "output_type": "execute_result"
    }
   ],
   "source": [
    "create_fequencies_two(line)"
   ]
  },
  {
   "cell_type": "code",
   "execution_count": null,
   "metadata": {
    "collapsed": true
   },
   "outputs": [],
   "source": []
  },
  {
   "cell_type": "code",
   "execution_count": null,
   "metadata": {
    "collapsed": true
   },
   "outputs": [],
   "source": []
  },
  {
   "cell_type": "code",
   "execution_count": null,
   "metadata": {
    "collapsed": true
   },
   "outputs": [],
   "source": []
  },
  {
   "cell_type": "code",
   "execution_count": null,
   "metadata": {
    "collapsed": true
   },
   "outputs": [],
   "source": []
  },
  {
   "cell_type": "code",
   "execution_count": null,
   "metadata": {
    "collapsed": true
   },
   "outputs": [],
   "source": []
  },
  {
   "cell_type": "code",
   "execution_count": null,
   "metadata": {
    "collapsed": true
   },
   "outputs": [],
   "source": []
  }
 ],
 "metadata": {
  "kernelspec": {
   "display_name": "Python 3",
   "language": "python",
   "name": "python3"
  },
  "language_info": {
   "codemirror_mode": {
    "name": "ipython",
    "version": 3
   },
   "file_extension": ".py",
   "mimetype": "text/x-python",
   "name": "python",
   "nbconvert_exporter": "python",
   "pygments_lexer": "ipython3",
   "version": "3.5.1"
  }
 },
 "nbformat": 4,
 "nbformat_minor": 0
}
